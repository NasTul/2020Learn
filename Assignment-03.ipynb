{
 "cells": [
  {
   "cell_type": "markdown",
   "metadata": {},
   "source": [
    "## Assignment-03 First Step of Machine Learning: Model and Evaluation"
   ]
  },
  {
   "cell_type": "markdown",
   "metadata": {},
   "source": [
    "同学们，今天我们的学习了基本的机器学习概念，相比你已经对机器学习的这些方法有一个基本的认识了。值得说明的是，机器学习不仅仅是一系列方法，更重要的是一种思维体系，即：依据以往的、现有的数据，构建某种方法来解决未见过的问题。而且决策树，贝叶斯只是实现这个目标的一个方法，包括之后的神经网络。很有可能有一天，神经网络也会被淘汰，但是重要的是我们要理解机器学习的目标，就是尽可能的自动化解决未知的问题。"
   ]
  },
  {
   "cell_type": "markdown",
   "metadata": {},
   "source": [
    "![](https://timgsa.baidu.com/timg?image&quality=80&size=b9999_10000&sec=1571556399207&di=4a97dc15ad08dd49d3748d1edf6109b3&imgtype=0&src=http%3A%2F%2Fc.hiphotos.baidu.com%2Fzhidao%2Fwh%3D450%2C600%2Fsign%3Dae742c6aedcd7b89e93932873a146e91%2F5d6034a85edf8db1b16050c40223dd54574e74c7.jpg)"
   ]
  },
  {
   "cell_type": "markdown",
   "metadata": {},
   "source": [
    "## Part-1 Programming Review 编程回顾"
   ]
  },
  {
   "cell_type": "markdown",
   "metadata": {},
   "source": [
    "#### 1. Re-code the Linear-Regression Model using scikit-learning(10 points)"
   ]
  },
  {
   "cell_type": "markdown",
   "metadata": {},
   "source": [
    "<评阅点>： \n",
    "> + 是否完成线性回归模型 (4')\n",
    "+ 能够进行预测新数据(3')\n",
    "+ 能够进行可视化操作(3')"
   ]
  },
  {
   "cell_type": "code",
   "execution_count": 1,
   "metadata": {},
   "outputs": [],
   "source": [
    "# you code here\n",
    "%matplotlib inline\n",
    "import numpy as np\n",
    "random_data = np.random.random((20, 2))"
   ]
  },
  {
   "cell_type": "code",
   "execution_count": 2,
   "metadata": {},
   "outputs": [],
   "source": [
    "import matplotlib.pyplot as plt\n",
    "X, y = random_data[:, 0], random_data[:, 1]"
   ]
  },
  {
   "cell_type": "code",
   "execution_count": 3,
   "metadata": {},
   "outputs": [
    {
     "data": {
      "text/plain": [
       "<matplotlib.collections.PathCollection at 0x1203a1610>"
      ]
     },
     "execution_count": 3,
     "metadata": {},
     "output_type": "execute_result"
    },
    {
     "data": {
      "image/png": "[encoded data removed]",
      "text/plain": [
       "<Figure size 432x288 with 1 Axes>"
      ]
     },
     "metadata": {
      "needs_background": "light"
     },
     "output_type": "display_data"
    }
   ],
   "source": [
    "plt.scatter(X, y)"
   ]
  },
  {
   "cell_type": "code",
   "execution_count": 4,
   "metadata": {},
   "outputs": [
    {
     "data": {
      "text/plain": [
       "<matplotlib.collections.PathCollection at 0x12033bc90>"
      ]
     },
     "execution_count": 4,
     "metadata": {},
     "output_type": "execute_result"
    },
    {
     "data": {
      "image/png": "[encoded data removed]",
      "text/plain": [
       "<Figure size 432x288 with 1 Axes>"
      ]
     },
     "metadata": {
      "needs_background": "light"
     },
     "output_type": "display_data"
    }
   ],
   "source": [
    "#按照15x+b 初始化y，b是噪音 -3到3的均匀分布\n",
    "import random\n",
    "def assmuing_function(x):\n",
    "    return 15 * x + random.randint(-3, 3)\n",
    "y = [assmuing_function(x) for x in X]\n",
    "plt.scatter(X, y)"
   ]
  },
  {
   "cell_type": "code",
   "execution_count": 5,
   "metadata": {},
   "outputs": [
    {
     "data": {
      "text/plain": [
       "array([[0.33989494],\n",
       "       [0.07482905],\n",
       "       [0.10759266],\n",
       "       [0.47801609],\n",
       "       [0.98740731],\n",
       "       [0.24984036],\n",
       "       [0.65009438],\n",
       "       [0.83100221],\n",
       "       [0.4060931 ],\n",
       "       [0.44825233],\n",
       "       [0.04282931],\n",
       "       [0.02967353],\n",
       "       [0.14433568],\n",
       "       [0.55125599],\n",
       "       [0.68967874],\n",
       "       [0.38653295],\n",
       "       [0.15409081],\n",
       "       [0.2963168 ],\n",
       "       [0.56527741],\n",
       "       [0.0635665 ]])"
      ]
     },
     "execution_count": 5,
     "metadata": {},
     "output_type": "execute_result"
    }
   ],
   "source": [
    "X.reshape(-1, 1)"
   ]
  },
  {
   "cell_type": "code",
   "execution_count": 6,
   "metadata": {},
   "outputs": [
    {
     "data": {
      "text/plain": [
       "[7.098424123821499,\n",
       " -0.8775642895814855,\n",
       " 2.6138898783778077,\n",
       " 6.170241318914362,\n",
       " 13.81110971529926,\n",
       " 2.7476054648306674,\n",
       " 10.751415660606822,\n",
       " 14.465033180166127,\n",
       " 9.091396570754501,\n",
       " 9.723784946207061,\n",
       " -2.3575603691096356,\n",
       " -2.5548971123907265,\n",
       " 3.165035205088972,\n",
       " 10.268839813733821,\n",
       " 10.34518116403323,\n",
       " 8.797994234609146,\n",
       " -0.6886379215684575,\n",
       " 1.4447519719334618,\n",
       " 8.47916108312044,\n",
       " -2.046502485293443]"
      ]
     },
     "execution_count": 6,
     "metadata": {},
     "output_type": "execute_result"
    }
   ],
   "source": [
    "y"
   ]
  },
  {
   "cell_type": "code",
   "execution_count": 7,
   "metadata": {},
   "outputs": [
    {
     "name": "stdout",
     "output_type": "stream",
     "text": [
      "score: 0.8695820554323314\n",
      "coef_: [18.56917796]\n",
      "intercept_: -1.4378314310784344\n"
     ]
    },
    {
     "data": {
      "text/plain": [
       "[<matplotlib.lines.Line2D at 0x1a243185d0>]"
      ]
     },
     "execution_count": 7,
     "metadata": {},
     "output_type": "execute_result"
    },
    {
     "data": {
      "image/png": "[encoded data removed]",
      "text/plain": [
       "<Figure size 432x288 with 1 Axes>"
      ]
     },
     "metadata": {
      "needs_background": "light"
     },
     "output_type": "display_data"
    }
   ],
   "source": [
    "y = np.array(y)\n",
    "from sklearn.linear_model import LinearRegression\n",
    "#使用sklearn 的LR模块\n",
    "reg = LinearRegression().fit(X.reshape(-1, 1), y)\n",
    "#Return the coefficient of determination R^2 of the prediction.\n",
    "print(\"score:\",reg.score(X.reshape(-1, 1), y))\n",
    "#Estimated coefficients for the linear regression problem. If multiple targets are passed during the fit (y 2D), this is a 2D array of shape (n_targets, n_features), while if only one target is passed, this is a 1D array of length n_features.\n",
    "print(\"coef_:\",reg.coef_)\n",
    "#Independent term in the linear model.\n",
    "print(\"intercept_:\",reg.intercept_)\n",
    "def f(x): \n",
    "    return reg.coef_ * x + reg.intercept_\n",
    "plt.scatter(X, y)\n",
    "plt.plot(X, f(X), color='red')"
   ]
  },
  {
   "cell_type": "code",
   "execution_count": 8,
   "metadata": {},
   "outputs": [
    {
     "data": {
      "text/plain": [
       "array([35.70052449])"
      ]
     },
     "execution_count": 8,
     "metadata": {},
     "output_type": "execute_result"
    }
   ],
   "source": [
    "reg.predict([[2]])"
   ]
  },
  {
   "cell_type": "markdown",
   "metadata": {},
   "source": [
    "#### 2. Complete the unfinished KNN Model using pure python to solve the previous Line-Regression problem. (8 points)"
   ]
  },
  {
   "cell_type": "markdown",
   "metadata": {},
   "source": [
    "<评阅点>:\n",
    "> + 是否完成了KNN模型 (4')\n",
    "+ 是否能够预测新的数据 (4')"
   ]
  },
  {
   "cell_type": "code",
   "execution_count": 50,
   "metadata": {},
   "outputs": [],
   "source": [
    "#导入cosine距离\n",
    "from scipy.spatial.distance import cosine\n",
    "#获取（X,y) 的list\n",
    "def model(X, y):\n",
    "    # 直接存储 X,y 即可\n",
    "    return [(Xi, yi) for Xi, yi in zip(X, y)]\n",
    "#计算距离\n",
    "def distance(x1, x2):\n",
    "    #return cosine(x1, x2)\n",
    "    return abs(x1-x2)"
   ]
  },
  {
   "cell_type": "code",
   "execution_count": 51,
   "metadata": {},
   "outputs": [],
   "source": [
    "def predict(x, k=5):\n",
    "    # 在predicate的时候，需要做大量的计算\n",
    "    most_similars = sorted(model(X, y), key=lambda xi: distance(xi[0], x))[:k]\n",
    "    # -> regression: numerical -> most_similars (y)\n",
    "    # -> classification: categorical -> most_similar (y)\n",
    "    \n",
    "    # 已经获得了最相似的数据集\n",
    "    # 然后呢，Counter() -> most_common() -> 就可以获得出现最多的这个y了 \n",
    "    return most_similars"
   ]
  },
  {
   "cell_type": "code",
   "execution_count": 52,
   "metadata": {},
   "outputs": [
    {
     "data": {
      "text/plain": [
       "[(0.987407314353284, 13.81110971529926),\n",
       " (0.8310022120110752, 14.465033180166127),\n",
       " (0.689678744268882, 10.34518116403323),\n",
       " (0.6500943773737882, 10.751415660606822),\n",
       " (0.5652774055413626, 8.47916108312044)]"
      ]
     },
     "execution_count": 52,
     "metadata": {},
     "output_type": "execute_result"
    }
   ],
   "source": [
    "from collections import Counter\n",
    "most_similars = predict(2)\n",
    "most_similars\n",
    "#Counter(most_similars).most_common()"
   ]
  },
  {
   "cell_type": "markdown",
   "metadata": {},
   "source": [
    "#### 3. Re-code the Decision Tree, which could sort the features by salience. (12 points)"
   ]
  },
  {
   "cell_type": "markdown",
   "metadata": {},
   "source": [
    "<评阅点>\n",
    "> + 是否实现了信息熵 (1' )\n",
    "+ 是否实现了最优先特征点的选择(5')\n",
    "+ 是否实现了持续的特征选则(6')"
   ]
  },
  {
   "cell_type": "markdown",
   "metadata": {},
   "source": [
    "$$ Entropy = -\\sum_i^n Pr(x_i) log(Pr(x_i)) $$"
   ]
  },
  {
   "cell_type": "code",
   "execution_count": 39,
   "metadata": {},
   "outputs": [],
   "source": [
    "from icecream import ic\n",
    "def entropy(elements):\n",
    "    '''群体的混乱程度'''\n",
    "    #返回每个元素的个数\n",
    "    counter = Counter(elements)\n",
    "    #元素出现的概率\n",
    "    probs = [counter[c] / len(elements) for c in set(elements)]\n",
    "    #打印元素出现的概率，由于是set 并不对应与相应位置\n",
    "    #ic(probs)\n",
    "    return - sum(p * np.log(p) for p in probs)"
   ]
  },
  {
   "cell_type": "code",
   "execution_count": 14,
   "metadata": {},
   "outputs": [
    {
     "name": "stderr",
     "output_type": "stream",
     "text": [
      "ic| probs: [0.4, 0.2, 0.2, 0.2]\n"
     ]
    },
    {
     "data": {
      "text/plain": [
       "1.3321790402101223"
      ]
     },
     "execution_count": 14,
     "metadata": {},
     "output_type": "execute_result"
    }
   ],
   "source": [
    "entropy([1, 2, 3, 4, 1])"
   ]
  },
  {
   "cell_type": "code",
   "execution_count": 53,
   "metadata": {},
   "outputs": [
    {
     "data": {
      "text/html": [
       "<div>\n",
       "<style scoped>\n",
       "    .dataframe tbody tr th:only-of-type {\n",
       "        vertical-align: middle;\n",
       "    }\n",
       "\n",
       "    .dataframe tbody tr th {\n",
       "        vertical-align: top;\n",
       "    }\n",
       "\n",
       "    .dataframe thead th {\n",
       "        text-align: right;\n",
       "    }\n",
       "</style>\n",
       "<table border=\"1\" class=\"dataframe\">\n",
       "  <thead>\n",
       "    <tr style=\"text-align: right;\">\n",
       "      <th></th>\n",
       "      <th>gender</th>\n",
       "      <th>income</th>\n",
       "      <th>family_number</th>\n",
       "      <th>pet</th>\n",
       "      <th>bought</th>\n",
       "    </tr>\n",
       "  </thead>\n",
       "  <tbody>\n",
       "    <tr>\n",
       "      <td>0</td>\n",
       "      <td>F</td>\n",
       "      <td>+10</td>\n",
       "      <td>1</td>\n",
       "      <td>1</td>\n",
       "      <td>1</td>\n",
       "    </tr>\n",
       "    <tr>\n",
       "      <td>1</td>\n",
       "      <td>F</td>\n",
       "      <td>-10</td>\n",
       "      <td>1</td>\n",
       "      <td>1</td>\n",
       "      <td>1</td>\n",
       "    </tr>\n",
       "    <tr>\n",
       "      <td>2</td>\n",
       "      <td>F</td>\n",
       "      <td>+10</td>\n",
       "      <td>2</td>\n",
       "      <td>0</td>\n",
       "      <td>1</td>\n",
       "    </tr>\n",
       "    <tr>\n",
       "      <td>3</td>\n",
       "      <td>F</td>\n",
       "      <td>+10</td>\n",
       "      <td>1</td>\n",
       "      <td>0</td>\n",
       "      <td>0</td>\n",
       "    </tr>\n",
       "    <tr>\n",
       "      <td>4</td>\n",
       "      <td>M</td>\n",
       "      <td>+10</td>\n",
       "      <td>1</td>\n",
       "      <td>0</td>\n",
       "      <td>0</td>\n",
       "    </tr>\n",
       "    <tr>\n",
       "      <td>5</td>\n",
       "      <td>M</td>\n",
       "      <td>+10</td>\n",
       "      <td>1</td>\n",
       "      <td>0</td>\n",
       "      <td>0</td>\n",
       "    </tr>\n",
       "    <tr>\n",
       "      <td>6</td>\n",
       "      <td>M</td>\n",
       "      <td>-10</td>\n",
       "      <td>2</td>\n",
       "      <td>1</td>\n",
       "      <td>1</td>\n",
       "    </tr>\n",
       "  </tbody>\n",
       "</table>\n",
       "</div>"
      ],
      "text/plain": [
       "  gender income  family_number  pet  bought\n",
       "0      F    +10              1    1       1\n",
       "1      F    -10              1    1       1\n",
       "2      F    +10              2    0       1\n",
       "3      F    +10              1    0       0\n",
       "4      M    +10              1    0       0\n",
       "5      M    +10              1    0       0\n",
       "6      M    -10              2    1       1"
      ]
     },
     "execution_count": 53,
     "metadata": {},
     "output_type": "execute_result"
    }
   ],
   "source": [
    "import pandas as pd\n",
    "mock_data = {\n",
    "    'gender':['F', 'F', 'F', 'F', 'M', 'M', 'M'],\n",
    "    'income': ['+10', '-10', '+10', '+10', '+10', '+10', '-10'],\n",
    "    'family_number': [1, 1, 2, 1, 1, 1, 2],\n",
    "    'pet': [1, 1, 0, 0, 0, 0, 1],\n",
    "    'bought': [1, 1, 1, 0, 0, 0, 1],\n",
    "}\n",
    "dataset = pd.DataFrame.from_dict(mock_data)\n",
    "dataset"
   ]
  },
  {
   "cell_type": "code",
   "execution_count": 58,
   "metadata": {},
   "outputs": [
    {
     "data": {
      "text/html": [
       "<div>\n",
       "<style scoped>\n",
       "    .dataframe tbody tr th:only-of-type {\n",
       "        vertical-align: middle;\n",
       "    }\n",
       "\n",
       "    .dataframe tbody tr th {\n",
       "        vertical-align: top;\n",
       "    }\n",
       "\n",
       "    .dataframe thead th {\n",
       "        text-align: right;\n",
       "    }\n",
       "</style>\n",
       "<table border=\"1\" class=\"dataframe\">\n",
       "  <thead>\n",
       "    <tr style=\"text-align: right;\">\n",
       "      <th></th>\n",
       "      <th>gender</th>\n",
       "      <th>income</th>\n",
       "      <th>family_number</th>\n",
       "      <th>pet</th>\n",
       "      <th>bought</th>\n",
       "    </tr>\n",
       "  </thead>\n",
       "  <tbody>\n",
       "    <tr>\n",
       "      <td>0</td>\n",
       "      <td>F</td>\n",
       "      <td>+10</td>\n",
       "      <td>1</td>\n",
       "      <td>1</td>\n",
       "      <td>1</td>\n",
       "    </tr>\n",
       "  </tbody>\n",
       "</table>\n",
       "</div>"
      ],
      "text/plain": [
       "  gender income  family_number  pet  bought\n",
       "0      F    +10              1    1       1"
      ]
     },
     "execution_count": 58,
     "metadata": {},
     "output_type": "execute_result"
    }
   ],
   "source": [
    "test_data = {\n",
    "    'gender':['F'],\n",
    "    'income': ['+10'],\n",
    "    'family_number': [1],\n",
    "    'pet': [1],\n",
    "    'bought': [1]\n",
    "}\n",
    "test_data = pd.DataFrame.from_dict(test_data)\n",
    "test_data\n"
   ]
  },
  {
   "cell_type": "code",
   "execution_count": 54,
   "metadata": {},
   "outputs": [],
   "source": [
    "target = 'bought'\n",
    "x_fields =  set(dataset.columns.tolist()) - {target}"
   ]
  },
  {
   "cell_type": "code",
   "execution_count": 55,
   "metadata": {},
   "outputs": [
    {
     "data": {
      "text/plain": [
       "{'family_number', 'gender', 'income', 'pet'}"
      ]
     },
     "execution_count": 55,
     "metadata": {},
     "output_type": "execute_result"
    }
   ],
   "source": [
    "x_fields"
   ]
  },
  {
   "cell_type": "code",
   "execution_count": 56,
   "metadata": {},
   "outputs": [],
   "source": [
    "#存在一个问题，限于列中的值是两种\n",
    "def find_the_optimal_spilter(training_data: pd.DataFrame, target: str, x_fields) -> str:\n",
    "    #需要寻找的最佳分类的一列的列表\n",
    "    spliter = None\n",
    "    #初始化最小的熵\n",
    "    min_entropy = float('inf')\n",
    "    #遍历所有的列名，寻找最佳列名\n",
    "    for f in x_fields:\n",
    "        #一列中包含的数据\n",
    "        values = set(training_data[f])\n",
    "        for v in values:\n",
    "            sub_spliter_1 = training_data[training_data[f] == v][target].tolist()\n",
    "            # split by the current feature and one value\n",
    "            \n",
    "            entropy_1 = entropy(sub_spliter_1)\n",
    "            \n",
    "            sub_spliter_2 = training_data[training_data[f] != v][target].tolist()\n",
    "            \n",
    "            entropy_2 = entropy(sub_spliter_2)\n",
    "            \n",
    "            entropy_v = entropy_1 + entropy_2\n",
    "            #赋值最小的熵和相应的列名\n",
    "            if entropy_v <= min_entropy:\n",
    "                min_entropy = entropy_v\n",
    "                spliter = (f, v)\n",
    "    \n",
    "    #print('spliter is: {}'.format(spliter))\n",
    "    #print('the min entropy is: {}'.format(min_entropy))\n",
    "    return spliter"
   ]
  },
  {
   "cell_type": "code",
   "execution_count": 57,
   "metadata": {},
   "outputs": [
    {
     "name": "stdout",
     "output_type": "stream",
     "text": [
      "('pet', 1)\n",
      "('family_number', 2)\n",
      "('income', '+10')\n",
      "('gender', 'F')\n"
     ]
    }
   ],
   "source": [
    "chose_list = []\n",
    "while x_fields:\n",
    "    find_result = find_the_optimal_spilter(dataset,target,x_fields)\n",
    "    print(find_result)\n",
    "    chose_list.append(find_result)\n",
    "    x_fields = x_fields - {find_result[0]}\n",
    "    "
   ]
  },
  {
   "cell_type": "markdown",
   "metadata": {},
   "source": [
    "#### 4. Finish the K-Means using 2-D matplotlib (8 points)"
   ]
  },
  {
   "cell_type": "code",
   "execution_count": 43,
   "metadata": {},
   "outputs": [],
   "source": [
    "from sklearn.cluster import KMeans"
   ]
  },
  {
   "cell_type": "code",
   "execution_count": 44,
   "metadata": {},
   "outputs": [],
   "source": [
    "X1 = [random.randint(0, 100) for _ in range(100)]\n",
    "X2 = [random.randint(0, 100) for _ in range(100)]"
   ]
  },
  {
   "cell_type": "code",
   "execution_count": 45,
   "metadata": {},
   "outputs": [
    {
     "data": {
      "text/plain": [
       "<matplotlib.collections.PathCollection at 0x1a26a212d0>"
      ]
     },
     "execution_count": 45,
     "metadata": {},
     "output_type": "execute_result"
    },
    {
     "data": {
      "image/png": "[encoded data removed]",
      "text/plain": [
       "<Figure size 432x288 with 1 Axes>"
      ]
     },
     "metadata": {
      "needs_background": "light"
     },
     "output_type": "display_data"
    }
   ],
   "source": [
    "plt.scatter(X1, X2)\n"
   ]
  },
  {
   "cell_type": "code",
   "execution_count": 46,
   "metadata": {},
   "outputs": [
    {
     "data": {
      "text/plain": [
       "KMeans(algorithm='auto', copy_x=True, init='k-means++', max_iter=500,\n",
       "       n_clusters=6, n_init=10, n_jobs=None, precompute_distances='auto',\n",
       "       random_state=None, tol=0.0001, verbose=0)"
      ]
     },
     "execution_count": 46,
     "metadata": {},
     "output_type": "execute_result"
    }
   ],
   "source": [
    "tranning_data = [[x1, x2] for x1, x2 in zip(X1, X2)]\n",
    "cluster = KMeans(n_clusters=6, max_iter=500)\n",
    "cluster.fit(tranning_data)"
   ]
  },
  {
   "cell_type": "code",
   "execution_count": 47,
   "metadata": {},
   "outputs": [
    {
     "data": {
      "text/plain": [
       "array([[83.22222222, 79.66666667],\n",
       "       [11.66666667, 73.08333333],\n",
       "       [13.28571429, 25.07142857],\n",
       "       [48.7       , 40.15      ],\n",
       "       [45.0625    , 89.1875    ],\n",
       "       [75.6       , 18.35      ]])"
      ]
     },
     "execution_count": 47,
     "metadata": {},
     "output_type": "execute_result"
    }
   ],
   "source": [
    "cluster.cluster_centers_"
   ]
  },
  {
   "cell_type": "code",
   "execution_count": 48,
   "metadata": {},
   "outputs": [
    {
     "data": {
      "text/plain": [
       "array([3, 5, 3, 2, 4, 1, 3, 4, 4, 5, 5, 3, 1, 1, 5, 2, 2, 0, 0, 4, 2, 2,\n",
       "       0, 3, 3, 5, 3, 2, 3, 5, 4, 0, 4, 2, 3, 3, 5, 3, 5, 2, 0, 1, 4, 3,\n",
       "       3, 5, 0, 0, 2, 1, 0, 4, 5, 3, 5, 4, 0, 0, 5, 4, 4, 2, 1, 0, 0, 2,\n",
       "       0, 1, 3, 5, 2, 4, 2, 5, 5, 0, 1, 1, 0, 3, 1, 5, 0, 0, 5, 5, 3, 3,\n",
       "       3, 5, 0, 3, 4, 4, 2, 1, 4, 1, 5, 4], dtype=int32)"
      ]
     },
     "execution_count": 48,
     "metadata": {},
     "output_type": "execute_result"
    }
   ],
   "source": [
    "cluster.labels_"
   ]
  },
  {
   "cell_type": "code",
   "execution_count": 49,
   "metadata": {},
   "outputs": [
    {
     "data": {
      "image/png": "[encoded data removed]",
      "text/plain": [
       "<Figure size 432x288 with 1 Axes>"
      ]
     },
     "metadata": {
      "needs_background": "light"
     },
     "output_type": "display_data"
    }
   ],
   "source": [
    "from collections import defaultdict\n",
    "centers = defaultdict(list)\n",
    "for label, location in zip(cluster.labels_, tranning_data):\n",
    "    centers[label].append(location)\n",
    "color = ['red', 'green', 'grey', 'black', 'yellow', 'orange']\n",
    "\n",
    "for i, c in enumerate(centers):\n",
    "    for location in centers[c]:\n",
    "        plt.scatter(*location, c=color[i])\n",
    "        \n",
    "for center in cluster.cluster_centers_:\n",
    "    plt.scatter(*center, s=100)"
   ]
  },
  {
   "cell_type": "markdown",
   "metadata": {},
   "source": [
    "<评阅点>\n",
    "> + 是否完成了KMeans模型，基于scikit-learning (3')\n",
    "+ 是否完成了可视化任务（5'）"
   ]
  },
  {
   "cell_type": "markdown",
   "metadata": {},
   "source": [
    "## Part-2 Question and Answer 问答"
   ]
  },
  {
   "cell_type": "markdown",
   "metadata": {},
   "source": [
    "#### 1. What's the *model*? why  all the models are wrong, but some are useful? (5 points) "
   ]
  },
  {
   "cell_type": "markdown",
   "metadata": {},
   "source": [
    "Ans: 模型都是问题的简化，所有的模型并不能完全的拟合原始的问题，都会存在一定的误差， 但是有些模型的误差在我们可以接受的范围内"
   ]
  },
  {
   "cell_type": "markdown",
   "metadata": {},
   "source": [
    "<评阅点>\n",
    "> + 对模型的理解是否正确,对模型的抽象性是否正确(5')"
   ]
  },
  {
   "cell_type": "markdown",
   "metadata": {},
   "source": [
    "#### 2. What's the underfitting and overfitting? List the reasons that could make model overfitting or underfitting. (10 points)"
   ]
  },
  {
   "cell_type": "markdown",
   "metadata": {},
   "source": [
    "Ans: 过拟合：模型在训练集上表现的很好，偏差低，方差高.  测试集表现的很差 欠拟合：模型在训练集测试集都表现的很差,偏差高，方差低\n",
    "数据量太少或者噪音太多容易产生过拟合，  欠拟合有可能由于模型的复杂度太低，训练不到数据的关键信息。"
   ]
  },
  {
   "cell_type": "markdown",
   "metadata": {},
   "source": [
    "<评阅点>\n",
    "> + 对过拟合和欠拟合的理解是否正确 (3')\n",
    "+ 对欠拟合产生的原因是否理解正确(2')\n",
    "+ 对过拟合产生的原因是否理解正确(5')"
   ]
  },
  {
   "cell_type": "markdown",
   "metadata": {},
   "source": [
    "#### 3. What's the precision, recall, AUC, F1, F2score. What are they mainly target on? (12')"
   ]
  },
  {
   "cell_type": "markdown",
   "metadata": {},
   "source": [
    "Ans:<br>\n",
    "precision：所有预测的正类中，正确预测正类的比例<br>\n",
    "recall：所有实际的正类中，正确预测为正类的比例<br>\n",
    "AUC:ROC曲线下与坐标轴围成的面积,值越大正确率越高<br>\n",
    "F1: 召回率和精度的调和平均 B=1<br>\n",
    "F2: 召回权重比精度高 B=2<br>"
   ]
  },
  {
   "cell_type": "markdown",
   "metadata": {},
   "source": [
    "<评阅点>\n",
    "> + 对precision, recall, AUC, F1, F2 理解是否正确(6‘)\n",
    "+ 对precision, recall, AUC, F1, F2的使用侧重点是否理解正确 (6’)"
   ]
  },
  {
   "cell_type": "markdown",
   "metadata": {},
   "source": [
    "#### 4. Based on our course and yourself mind, what's the machine learning?  (8')"
   ]
  },
  {
   "cell_type": "markdown",
   "metadata": {},
   "source": [
    "Ans: 机器学习是我们定义一个模型通过对数据进行模型拟合，来解决问题。 主要是通过自动发现数据里的信息来解决问题。"
   ]
  },
  {
   "cell_type": "code",
   "execution_count": null,
   "metadata": {},
   "outputs": [],
   "source": []
  },
  {
   "cell_type": "markdown",
   "metadata": {},
   "source": [
    "<评阅点> 开放式问题，是否能说出来机器学习这种思维方式和传统的分析式编程的区别（8'）"
   ]
  },
  {
   "cell_type": "markdown",
   "metadata": {},
   "source": [
    "#### 5. \"正确定义了机器学习模型的评价标准(evaluation)， 问题基本上就已经解决一半\". 这句话是否正确？你是怎么看待的？ (8‘)"
   ]
  },
  {
   "cell_type": "code",
   "execution_count": null,
   "metadata": {},
   "outputs": [],
   "source": [
    "正确的定义了评价标准，就可以正确的评价模型的好坏，这样就可以正确的使用模型"
   ]
  },
  {
   "cell_type": "markdown",
   "metadata": {},
   "source": [
    "<评阅点> 开放式问题，主要看能理解评价指标对机器学习模型的重要性."
   ]
  },
  {
   "cell_type": "markdown",
   "metadata": {},
   "source": [
    "## Part-03 Programming Practice 编程练习"
   ]
  },
  {
   "cell_type": "markdown",
   "metadata": {},
   "source": [
    "1. In our course and previous practice, we complete some importance components of Decision Tree. In this problem, you need to build a **completed** Decision Tree Model. You show finish a `predicate()` function, which accepts three parameters **<gender, income, family_number>**, and outputs the predicated 'bought': 1 or 0.  (20 points)"
   ]
  },
  {
   "cell_type": "code",
   "execution_count": 64,
   "metadata": {},
   "outputs": [
    {
     "data": {
      "text/plain": [
       "1"
      ]
     },
     "execution_count": 64,
     "metadata": {},
     "output_type": "execute_result"
    }
   ],
   "source": [
    "test_data['pet'][0]"
   ]
  },
  {
   "cell_type": "code",
   "execution_count": 60,
   "metadata": {},
   "outputs": [
    {
     "data": {
      "text/plain": [
       "[('pet', 1), ('family_number', 2), ('income', '+10'), ('gender', 'F')]"
      ]
     },
     "execution_count": 60,
     "metadata": {},
     "output_type": "execute_result"
    }
   ],
   "source": [
    "chose_list"
   ]
  },
  {
   "cell_type": "code",
   "execution_count": 61,
   "metadata": {},
   "outputs": [
    {
     "data": {
      "text/html": [
       "<div>\n",
       "<style scoped>\n",
       "    .dataframe tbody tr th:only-of-type {\n",
       "        vertical-align: middle;\n",
       "    }\n",
       "\n",
       "    .dataframe tbody tr th {\n",
       "        vertical-align: top;\n",
       "    }\n",
       "\n",
       "    .dataframe thead th {\n",
       "        text-align: right;\n",
       "    }\n",
       "</style>\n",
       "<table border=\"1\" class=\"dataframe\">\n",
       "  <thead>\n",
       "    <tr style=\"text-align: right;\">\n",
       "      <th></th>\n",
       "      <th>gender</th>\n",
       "      <th>income</th>\n",
       "      <th>family_number</th>\n",
       "      <th>pet</th>\n",
       "      <th>bought</th>\n",
       "    </tr>\n",
       "  </thead>\n",
       "  <tbody>\n",
       "    <tr>\n",
       "      <td>0</td>\n",
       "      <td>F</td>\n",
       "      <td>+10</td>\n",
       "      <td>1</td>\n",
       "      <td>1</td>\n",
       "      <td>1</td>\n",
       "    </tr>\n",
       "    <tr>\n",
       "      <td>1</td>\n",
       "      <td>F</td>\n",
       "      <td>-10</td>\n",
       "      <td>1</td>\n",
       "      <td>1</td>\n",
       "      <td>1</td>\n",
       "    </tr>\n",
       "    <tr>\n",
       "      <td>6</td>\n",
       "      <td>M</td>\n",
       "      <td>-10</td>\n",
       "      <td>2</td>\n",
       "      <td>1</td>\n",
       "      <td>1</td>\n",
       "    </tr>\n",
       "  </tbody>\n",
       "</table>\n",
       "</div>"
      ],
      "text/plain": [
       "  gender income  family_number  pet  bought\n",
       "0      F    +10              1    1       1\n",
       "1      F    -10              1    1       1\n",
       "6      M    -10              2    1       1"
      ]
     },
     "execution_count": 61,
     "metadata": {},
     "output_type": "execute_result"
    }
   ],
   "source": [
    "\n",
    "dataset[dataset['pet'] == 1]"
   ]
  },
  {
   "cell_type": "code",
   "execution_count": 69,
   "metadata": {},
   "outputs": [
    {
     "data": {
      "text/plain": [
       "[1, 1, 1]"
      ]
     },
     "execution_count": 69,
     "metadata": {},
     "output_type": "execute_result"
    }
   ],
   "source": [
    "dataset[dataset['pet'] == 1][target].tolist()"
   ]
  },
  {
   "cell_type": "code",
   "execution_count": 70,
   "metadata": {},
   "outputs": [
    {
     "data": {
      "text/html": [
       "<div>\n",
       "<style scoped>\n",
       "    .dataframe tbody tr th:only-of-type {\n",
       "        vertical-align: middle;\n",
       "    }\n",
       "\n",
       "    .dataframe tbody tr th {\n",
       "        vertical-align: top;\n",
       "    }\n",
       "\n",
       "    .dataframe thead th {\n",
       "        text-align: right;\n",
       "    }\n",
       "</style>\n",
       "<table border=\"1\" class=\"dataframe\">\n",
       "  <thead>\n",
       "    <tr style=\"text-align: right;\">\n",
       "      <th></th>\n",
       "      <th>gender</th>\n",
       "      <th>income</th>\n",
       "      <th>family_number</th>\n",
       "      <th>pet</th>\n",
       "      <th>bought</th>\n",
       "    </tr>\n",
       "  </thead>\n",
       "  <tbody>\n",
       "    <tr>\n",
       "      <td>0</td>\n",
       "      <td>F</td>\n",
       "      <td>+10</td>\n",
       "      <td>1</td>\n",
       "      <td>1</td>\n",
       "      <td>1</td>\n",
       "    </tr>\n",
       "    <tr>\n",
       "      <td>1</td>\n",
       "      <td>F</td>\n",
       "      <td>-10</td>\n",
       "      <td>1</td>\n",
       "      <td>1</td>\n",
       "      <td>1</td>\n",
       "    </tr>\n",
       "    <tr>\n",
       "      <td>6</td>\n",
       "      <td>M</td>\n",
       "      <td>-10</td>\n",
       "      <td>2</td>\n",
       "      <td>1</td>\n",
       "      <td>1</td>\n",
       "    </tr>\n",
       "  </tbody>\n",
       "</table>\n",
       "</div>"
      ],
      "text/plain": [
       "  gender income  family_number  pet  bought\n",
       "0      F    +10              1    1       1\n",
       "1      F    -10              1    1       1\n",
       "6      M    -10              2    1       1"
      ]
     },
     "execution_count": 70,
     "metadata": {},
     "output_type": "execute_result"
    }
   ],
   "source": [
    "dataset[dataset['pet'] == test_data['pet'][0]]"
   ]
  },
  {
   "cell_type": "code",
   "execution_count": 71,
   "metadata": {},
   "outputs": [
    {
     "data": {
      "text/plain": [
       "3"
      ]
     },
     "execution_count": 71,
     "metadata": {},
     "output_type": "execute_result"
    }
   ],
   "source": [
    "len(dataset[dataset['pet'] == test_data['pet'][0]])"
   ]
  },
  {
   "cell_type": "code",
   "execution_count": 77,
   "metadata": {},
   "outputs": [
    {
     "data": {
      "text/plain": [
       "1"
      ]
     },
     "execution_count": 77,
     "metadata": {},
     "output_type": "execute_result"
    }
   ],
   "source": [
    "Counter([2,1,1,3]).most_common()[0][0]"
   ]
  },
  {
   "cell_type": "code",
   "execution_count": 100,
   "metadata": {},
   "outputs": [
    {
     "data": {
      "text/html": [
       "<div>\n",
       "<style scoped>\n",
       "    .dataframe tbody tr th:only-of-type {\n",
       "        vertical-align: middle;\n",
       "    }\n",
       "\n",
       "    .dataframe tbody tr th {\n",
       "        vertical-align: top;\n",
       "    }\n",
       "\n",
       "    .dataframe thead th {\n",
       "        text-align: right;\n",
       "    }\n",
       "</style>\n",
       "<table border=\"1\" class=\"dataframe\">\n",
       "  <thead>\n",
       "    <tr style=\"text-align: right;\">\n",
       "      <th></th>\n",
       "      <th>gender</th>\n",
       "      <th>income</th>\n",
       "      <th>family_number</th>\n",
       "      <th>pet</th>\n",
       "      <th>bought</th>\n",
       "    </tr>\n",
       "  </thead>\n",
       "  <tbody>\n",
       "    <tr>\n",
       "      <td>0</td>\n",
       "      <td>M</td>\n",
       "      <td>-10</td>\n",
       "      <td>1</td>\n",
       "      <td>null</td>\n",
       "      <td>1</td>\n",
       "    </tr>\n",
       "  </tbody>\n",
       "</table>\n",
       "</div>"
      ],
      "text/plain": [
       "  gender income  family_number   pet  bought\n",
       "0      M    -10              1  null       1"
      ]
     },
     "execution_count": 100,
     "metadata": {},
     "output_type": "execute_result"
    }
   ],
   "source": [
    "test_data = {\n",
    "    'gender':['M'],\n",
    "    'income': ['-10'],\n",
    "    'family_number': [1],\n",
    "    'pet': ['null'],\n",
    "    'bought': [1]\n",
    "}\n",
    "test_data = pd.DataFrame.from_dict(test_data)\n",
    "test_data"
   ]
  },
  {
   "cell_type": "code",
   "execution_count": 108,
   "metadata": {},
   "outputs": [
    {
     "data": {
      "text/plain": [
       "'null'"
      ]
     },
     "execution_count": 108,
     "metadata": {},
     "output_type": "execute_result"
    }
   ],
   "source": [
    "test_data[['pet'][0]][0]"
   ]
  },
  {
   "cell_type": "code",
   "execution_count": 109,
   "metadata": {},
   "outputs": [],
   "source": [
    "# you code here\n",
    "test_data\n",
    "chose_list\n",
    "dataset\n",
    "def predicate(pre_data: pd.DataFrame,test_data,target,chose_list):\n",
    "    for i in chose_list:\n",
    "        if test_data[[i[0]][0]][0] == \"null\":\n",
    "            continue\n",
    "        after_data = pre_data[pre_data[i[0]] == test_data[i[0]][0]]\n",
    "        len_after_data = len(after_data)\n",
    "        result_list = pre_data[pre_data[i[0]] == test_data[i[0]][0]][target].tolist()\n",
    "        len_result_list = len(result_list)\n",
    "        if len_result_list==len_after_data:\n",
    "            return result_list[0]\n",
    "        pre_data = after_data\n",
    "    return Counter(result_list).most_common()[0][0]"
   ]
  },
  {
   "cell_type": "code",
   "execution_count": 110,
   "metadata": {},
   "outputs": [
    {
     "data": {
      "text/html": [
       "<div>\n",
       "<style scoped>\n",
       "    .dataframe tbody tr th:only-of-type {\n",
       "        vertical-align: middle;\n",
       "    }\n",
       "\n",
       "    .dataframe tbody tr th {\n",
       "        vertical-align: top;\n",
       "    }\n",
       "\n",
       "    .dataframe thead th {\n",
       "        text-align: right;\n",
       "    }\n",
       "</style>\n",
       "<table border=\"1\" class=\"dataframe\">\n",
       "  <thead>\n",
       "    <tr style=\"text-align: right;\">\n",
       "      <th></th>\n",
       "      <th>gender</th>\n",
       "      <th>income</th>\n",
       "      <th>family_number</th>\n",
       "      <th>pet</th>\n",
       "      <th>bought</th>\n",
       "    </tr>\n",
       "  </thead>\n",
       "  <tbody>\n",
       "    <tr>\n",
       "      <td>0</td>\n",
       "      <td>M</td>\n",
       "      <td>-10</td>\n",
       "      <td>1</td>\n",
       "      <td>null</td>\n",
       "      <td>1</td>\n",
       "    </tr>\n",
       "  </tbody>\n",
       "</table>\n",
       "</div>"
      ],
      "text/plain": [
       "  gender income  family_number   pet  bought\n",
       "0      M    -10              1  null       1"
      ]
     },
     "execution_count": 110,
     "metadata": {},
     "output_type": "execute_result"
    }
   ],
   "source": [
    "test_data"
   ]
  },
  {
   "cell_type": "code",
   "execution_count": 111,
   "metadata": {},
   "outputs": [
    {
     "data": {
      "text/html": [
       "<div>\n",
       "<style scoped>\n",
       "    .dataframe tbody tr th:only-of-type {\n",
       "        vertical-align: middle;\n",
       "    }\n",
       "\n",
       "    .dataframe tbody tr th {\n",
       "        vertical-align: top;\n",
       "    }\n",
       "\n",
       "    .dataframe thead th {\n",
       "        text-align: right;\n",
       "    }\n",
       "</style>\n",
       "<table border=\"1\" class=\"dataframe\">\n",
       "  <thead>\n",
       "    <tr style=\"text-align: right;\">\n",
       "      <th></th>\n",
       "      <th>gender</th>\n",
       "      <th>income</th>\n",
       "      <th>family_number</th>\n",
       "      <th>pet</th>\n",
       "      <th>bought</th>\n",
       "    </tr>\n",
       "  </thead>\n",
       "  <tbody>\n",
       "    <tr>\n",
       "      <td>0</td>\n",
       "      <td>F</td>\n",
       "      <td>+10</td>\n",
       "      <td>1</td>\n",
       "      <td>1</td>\n",
       "      <td>1</td>\n",
       "    </tr>\n",
       "    <tr>\n",
       "      <td>1</td>\n",
       "      <td>F</td>\n",
       "      <td>-10</td>\n",
       "      <td>1</td>\n",
       "      <td>1</td>\n",
       "      <td>1</td>\n",
       "    </tr>\n",
       "    <tr>\n",
       "      <td>2</td>\n",
       "      <td>F</td>\n",
       "      <td>+10</td>\n",
       "      <td>2</td>\n",
       "      <td>0</td>\n",
       "      <td>1</td>\n",
       "    </tr>\n",
       "    <tr>\n",
       "      <td>3</td>\n",
       "      <td>F</td>\n",
       "      <td>+10</td>\n",
       "      <td>1</td>\n",
       "      <td>0</td>\n",
       "      <td>0</td>\n",
       "    </tr>\n",
       "    <tr>\n",
       "      <td>4</td>\n",
       "      <td>M</td>\n",
       "      <td>+10</td>\n",
       "      <td>1</td>\n",
       "      <td>0</td>\n",
       "      <td>0</td>\n",
       "    </tr>\n",
       "    <tr>\n",
       "      <td>5</td>\n",
       "      <td>M</td>\n",
       "      <td>+10</td>\n",
       "      <td>1</td>\n",
       "      <td>0</td>\n",
       "      <td>0</td>\n",
       "    </tr>\n",
       "    <tr>\n",
       "      <td>6</td>\n",
       "      <td>M</td>\n",
       "      <td>-10</td>\n",
       "      <td>2</td>\n",
       "      <td>1</td>\n",
       "      <td>1</td>\n",
       "    </tr>\n",
       "  </tbody>\n",
       "</table>\n",
       "</div>"
      ],
      "text/plain": [
       "  gender income  family_number  pet  bought\n",
       "0      F    +10              1    1       1\n",
       "1      F    -10              1    1       1\n",
       "2      F    +10              2    0       1\n",
       "3      F    +10              1    0       0\n",
       "4      M    +10              1    0       0\n",
       "5      M    +10              1    0       0\n",
       "6      M    -10              2    1       1"
      ]
     },
     "execution_count": 111,
     "metadata": {},
     "output_type": "execute_result"
    }
   ],
   "source": [
    "dataset"
   ]
  },
  {
   "cell_type": "code",
   "execution_count": 112,
   "metadata": {},
   "outputs": [
    {
     "data": {
      "text/plain": [
       "[('pet', 1), ('family_number', 2), ('income', '+10'), ('gender', 'F')]"
      ]
     },
     "execution_count": 112,
     "metadata": {},
     "output_type": "execute_result"
    }
   ],
   "source": [
    "chose_list"
   ]
  },
  {
   "cell_type": "code",
   "execution_count": 113,
   "metadata": {},
   "outputs": [
    {
     "data": {
      "text/plain": [
       "1"
      ]
     },
     "execution_count": 113,
     "metadata": {},
     "output_type": "execute_result"
    }
   ],
   "source": [
    "predicate(dataset,test_data,target,chose_list)"
   ]
  },
  {
   "cell_type": "markdown",
   "metadata": {},
   "source": [
    "<评阅点>\n",
    "> + 是否将之前的决策树模型的部分进行合并组装， predicate函数能够顺利运行(8')\n",
    "+ 是够能够输入未曾见过的X变量，例如gender, income, family_number 分别是： <M, -10, 1>, 模型能够预测出结果 (12')"
   ]
  },
  {
   "cell_type": "markdown",
   "metadata": {},
   "source": [
    "2. 将上一节课(第二节课)的线性回归问题中的Loss函数改成\"绝对值\"，并且改变其偏导的求值方式，观察其结果的变化。(19 point)"
   ]
  },
  {
   "cell_type": "code",
   "execution_count": 2,
   "metadata": {},
   "outputs": [],
   "source": [
    "# you code here\n",
    "#定义数据\n",
    "from sklearn.datasets import load_boston\n",
    "import random\n",
    "dataset = load_boston()\n",
    "x,y=dataset['data'],dataset['target']\n",
    "X_rm = x[:,5]\n",
    "\n",
    "#define target function\n",
    "def price(rm, k, b):\n",
    "    return k * rm + b\n",
    "\n",
    "\n",
    "# define loss function ,修改绝对值\n",
    "def loss(y,y_hat):\n",
    "    return sum( abs(y_i - y_hat_i) for y_i, y_hat_i in zip(list(y),list(y_hat)))/len(list(y))\n",
    "\n",
    "\n",
    "# define partial derivative \n",
    "def partial_derivative_k(x, y, y_hat): \n",
    "    n = len(y)\n",
    "    gradient = 0\n",
    "    for x_i, y_i, y_hat_i in zip(list(x),list(y),list(y_hat)):\n",
    "        mul = y_i-y_hat_i\n",
    "        if mul > 0:\n",
    "            gradient += -x_i\n",
    "        if mul < 0:\n",
    "            gradient += x_i\n",
    "        if mul == 0:\n",
    "            gradient += 0\n",
    "    return 1/n * gradient\n",
    "\n",
    "\n",
    "\n",
    "def partial_derivative_b(y, y_hat):\n",
    "    n = len(y)\n",
    "    gradient = 0\n",
    "    for y_i, y_hat_i in zip(list(y),list(y_hat)):\n",
    "        mul = y_i-y_hat_i\n",
    "        if mul > 0:\n",
    "            gradient += -1\n",
    "        if mul < 0:\n",
    "            gradient += 1\n",
    "        if mul == 0:\n",
    "            gradient += 0\n",
    "    return 1 / n * gradient"
   ]
  },
  {
   "cell_type": "code",
   "execution_count": 3,
   "metadata": {},
   "outputs": [
    {
     "name": "stdout",
     "output_type": "stream",
     "text": [
      "Iteration 0, the loss is 125.25119504993054, parameters k is 18.505843339852703 and b is 31.481541953458134\n",
      "Iteration 1, the loss is 125.21069842054797, parameters k is 18.49955870546535 and b is 31.480541953458133\n",
      "Iteration 2, the loss is 125.17020179116537, parameters k is 18.493274071077998 and b is 31.47954195345813\n",
      "Iteration 3, the loss is 125.1297051617826, parameters k is 18.486989436690646 and b is 31.47854195345813\n",
      "Iteration 4, the loss is 125.08920853239995, parameters k is 18.480704802303293 and b is 31.47754195345813\n",
      "Iteration 5, the loss is 125.04871190301715, parameters k is 18.47442016791594 and b is 31.476541953458128\n",
      "Iteration 6, the loss is 125.00821527363455, parameters k is 18.46813553352859 and b is 31.475541953458126\n",
      "Iteration 7, the loss is 124.96771864425176, parameters k is 18.461850899141236 and b is 31.474541953458125\n",
      "Iteration 8, the loss is 124.92722201486914, parameters k is 18.455566264753884 and b is 31.473541953458124\n",
      "Iteration 9, the loss is 124.8867253854864, parameters k is 18.44928163036653 and b is 31.472541953458123\n",
      "Iteration 10, the loss is 124.84622875610378, parameters k is 18.44299699597918 and b is 31.47154195345812\n",
      "Iteration 11, the loss is 124.80573212672098, parameters k is 18.436712361591827 and b is 31.47054195345812\n",
      "Iteration 12, the loss is 124.76523549733827, parameters k is 18.430427727204474 and b is 31.46954195345812\n",
      "Iteration 13, the loss is 124.72473886795574, parameters k is 18.424143092817122 and b is 31.468541953458118\n",
      "Iteration 14, the loss is 124.68424223857295, parameters k is 18.41785845842977 and b is 31.467541953458117\n",
      "Iteration 15, the loss is 124.64374560919043, parameters k is 18.411573824042417 and b is 31.466541953458115\n",
      "Iteration 16, the loss is 124.60324897980752, parameters k is 18.405289189655065 and b is 31.465541953458114\n",
      "Iteration 17, the loss is 124.56275235042483, parameters k is 18.399004555267712 and b is 31.464541953458113\n",
      "Iteration 18, the loss is 124.52225572104224, parameters k is 18.39271992088036 and b is 31.463541953458112\n",
      "Iteration 19, the loss is 124.48175909165961, parameters k is 18.386435286493008 and b is 31.46254195345811\n",
      "Iteration 20, the loss is 124.44126246227684, parameters k is 18.380150652105655 and b is 31.46154195345811\n",
      "Iteration 21, the loss is 124.4007658328941, parameters k is 18.373866017718303 and b is 31.460541953458108\n",
      "Iteration 22, the loss is 124.3602692035116, parameters k is 18.36758138333095 and b is 31.459541953458107\n",
      "Iteration 23, the loss is 124.31977257412872, parameters k is 18.361296748943598 and b is 31.458541953458106\n",
      "Iteration 24, the loss is 124.2792759447461, parameters k is 18.355012114556246 and b is 31.457541953458104\n",
      "Iteration 25, the loss is 124.23877931536342, parameters k is 18.348727480168893 and b is 31.456541953458103\n",
      "Iteration 26, the loss is 124.19828268598063, parameters k is 18.34244284578154 and b is 31.455541953458102\n",
      "Iteration 27, the loss is 124.15778605659801, parameters k is 18.33615821139419 and b is 31.4545419534581\n",
      "Iteration 28, the loss is 124.11728942721525, parameters k is 18.329873577006836 and b is 31.4535419534581\n",
      "Iteration 29, the loss is 124.07679279783267, parameters k is 18.323588942619484 and b is 31.4525419534581\n",
      "Iteration 30, the loss is 124.03629616844992, parameters k is 18.31730430823213 and b is 31.451541953458097\n",
      "Iteration 31, the loss is 123.9957995390672, parameters k is 18.31101967384478 and b is 31.450541953458096\n",
      "Iteration 32, the loss is 123.95530290968458, parameters k is 18.304735039457427 and b is 31.449541953458095\n",
      "Iteration 33, the loss is 123.91480628030192, parameters k is 18.298450405070074 and b is 31.448541953458093\n",
      "Iteration 34, the loss is 123.87430965091913, parameters k is 18.292165770682722 and b is 31.447541953458092\n",
      "Iteration 35, the loss is 123.83381302153643, parameters k is 18.28588113629537 and b is 31.44654195345809\n",
      "Iteration 36, the loss is 123.7933163921538, parameters k is 18.279596501908017 and b is 31.44554195345809\n",
      "Iteration 37, the loss is 123.7528197627711, parameters k is 18.273311867520665 and b is 31.44454195345809\n",
      "Iteration 38, the loss is 123.71232313338847, parameters k is 18.267027233133312 and b is 31.443541953458087\n",
      "Iteration 39, the loss is 123.67182650400581, parameters k is 18.26074259874596 and b is 31.442541953458086\n",
      "Iteration 40, the loss is 123.631329874623, parameters k is 18.254457964358608 and b is 31.441541953458085\n",
      "Iteration 41, the loss is 123.59083324524036, parameters k is 18.248173329971255 and b is 31.440541953458084\n",
      "Iteration 42, the loss is 123.55033661585773, parameters k is 18.241888695583903 and b is 31.439541953458082\n",
      "Iteration 43, the loss is 123.50983998647504, parameters k is 18.23560406119655 and b is 31.43854195345808\n",
      "Iteration 44, the loss is 123.4693433570923, parameters k is 18.229319426809198 and b is 31.43754195345808\n",
      "Iteration 45, the loss is 123.42884672770958, parameters k is 18.223034792421846 and b is 31.43654195345808\n",
      "Iteration 46, the loss is 123.388350098327, parameters k is 18.216750158034493 and b is 31.435541953458078\n",
      "Iteration 47, the loss is 123.3478534689443, parameters k is 18.21046552364714 and b is 31.434541953458076\n",
      "Iteration 48, the loss is 123.30735683956162, parameters k is 18.20418088925979 and b is 31.433541953458075\n",
      "Iteration 49, the loss is 123.26686021017889, parameters k is 18.197896254872436 and b is 31.432541953458074\n",
      "Iteration 50, the loss is 123.22636358079613, parameters k is 18.191611620485084 and b is 31.431541953458073\n",
      "Iteration 51, the loss is 123.18586695141353, parameters k is 18.18532698609773 and b is 31.43054195345807\n",
      "Iteration 52, the loss is 123.14537032203089, parameters k is 18.17904235171038 and b is 31.42954195345807\n",
      "Iteration 53, the loss is 123.10487369264813, parameters k is 18.172757717323027 and b is 31.42854195345807\n",
      "Iteration 54, the loss is 123.06437706326537, parameters k is 18.166473082935674 and b is 31.427541953458068\n",
      "Iteration 55, the loss is 123.02388043388278, parameters k is 18.160188448548322 and b is 31.426541953458067\n",
      "Iteration 56, the loss is 122.98338380449994, parameters k is 18.15390381416097 and b is 31.425541953458065\n",
      "Iteration 57, the loss is 122.94288717511728, parameters k is 18.147619179773617 and b is 31.424541953458064\n",
      "Iteration 58, the loss is 122.90239054573476, parameters k is 18.141334545386265 and b is 31.423541953458063\n",
      "Iteration 59, the loss is 122.86189391635186, parameters k is 18.135049910998912 and b is 31.42254195345806\n",
      "Iteration 60, the loss is 122.82139728696936, parameters k is 18.12876527661156 and b is 31.42154195345806\n",
      "Iteration 61, the loss is 122.7809006575866, parameters k is 18.122480642224208 and b is 31.42054195345806\n",
      "Iteration 62, the loss is 122.74040402820397, parameters k is 18.116196007836855 and b is 31.419541953458058\n",
      "Iteration 63, the loss is 122.69990739882105, parameters k is 18.109911373449503 and b is 31.418541953458057\n",
      "Iteration 64, the loss is 122.65941076943837, parameters k is 18.10362673906215 and b is 31.417541953458056\n",
      "Iteration 65, the loss is 122.61891414005589, parameters k is 18.097342104674798 and b is 31.416541953458054\n",
      "Iteration 66, the loss is 122.5784175106731, parameters k is 18.091057470287446 and b is 31.415541953458053\n",
      "Iteration 67, the loss is 122.53792088129047, parameters k is 18.084772835900093 and b is 31.414541953458052\n",
      "Iteration 68, the loss is 122.4974242519077, parameters k is 18.07848820151274 and b is 31.41354195345805\n",
      "Iteration 69, the loss is 122.45692762252523, parameters k is 18.07220356712539 and b is 31.41254195345805\n",
      "Iteration 70, the loss is 122.41643099314244, parameters k is 18.065918932738036 and b is 31.41154195345805\n",
      "Iteration 71, the loss is 122.37593436375977, parameters k is 18.059634298350684 and b is 31.410541953458047\n",
      "Iteration 72, the loss is 122.33543773437695, parameters k is 18.05334966396333 and b is 31.409541953458046\n",
      "Iteration 73, the loss is 122.29494110499427, parameters k is 18.04706502957598 and b is 31.408541953458045\n",
      "Iteration 74, the loss is 122.25444447561158, parameters k is 18.040780395188627 and b is 31.407541953458043\n",
      "Iteration 75, the loss is 122.21394784622892, parameters k is 18.034495760801274 and b is 31.406541953458042\n",
      "Iteration 76, the loss is 122.17345121684632, parameters k is 18.02821112641392 and b is 31.40554195345804\n",
      "Iteration 77, the loss is 122.13295458746343, parameters k is 18.02192649202657 and b is 31.40454195345804\n",
      "Iteration 78, the loss is 122.09245795808073, parameters k is 18.015641857639217 and b is 31.40354195345804\n",
      "Iteration 79, the loss is 122.05196132869813, parameters k is 18.009357223251865 and b is 31.402541953458037\n",
      "Iteration 80, the loss is 122.01146469931548, parameters k is 18.003072588864512 and b is 31.401541953458036\n",
      "Iteration 81, the loss is 121.97096806993278, parameters k is 17.99678795447716 and b is 31.400541953458035\n",
      "Iteration 82, the loss is 121.93047144055006, parameters k is 17.990503320089807 and b is 31.399541953458034\n",
      "Iteration 83, the loss is 121.88997481116742, parameters k is 17.984218685702455 and b is 31.398541953458032\n",
      "Iteration 84, the loss is 121.84947818178475, parameters k is 17.977934051315103 and b is 31.39754195345803\n",
      "Iteration 85, the loss is 121.80898155240213, parameters k is 17.97164941692775 and b is 31.39654195345803\n",
      "Iteration 86, the loss is 121.76848492301929, parameters k is 17.965364782540398 and b is 31.39554195345803\n",
      "Iteration 87, the loss is 121.72798829363673, parameters k is 17.959080148153046 and b is 31.394541953458027\n",
      "Iteration 88, the loss is 121.68749166425401, parameters k is 17.952795513765693 and b is 31.393541953458026\n",
      "Iteration 89, the loss is 121.6469950348713, parameters k is 17.94651087937834 and b is 31.392541953458025\n",
      "Iteration 90, the loss is 121.60649840548847, parameters k is 17.94022624499099 and b is 31.391541953458024\n",
      "Iteration 91, the loss is 121.56600177610592, parameters k is 17.933941610603636 and b is 31.390541953458023\n",
      "Iteration 92, the loss is 121.52550514672318, parameters k is 17.927656976216284 and b is 31.38954195345802\n",
      "Iteration 93, the loss is 121.4850085173406, parameters k is 17.92137234182893 and b is 31.38854195345802\n",
      "Iteration 94, the loss is 121.44451188795789, parameters k is 17.91508770744158 and b is 31.38754195345802\n",
      "Iteration 95, the loss is 121.40401525857514, parameters k is 17.908803073054226 and b is 31.386541953458018\n",
      "Iteration 96, the loss is 121.36351862919251, parameters k is 17.902518438666874 and b is 31.385541953458016\n",
      "Iteration 97, the loss is 121.32302199980973, parameters k is 17.89623380427952 and b is 31.384541953458015\n",
      "Iteration 98, the loss is 121.28252537042697, parameters k is 17.88994916989217 and b is 31.383541953458014\n",
      "Iteration 99, the loss is 121.24202874104438, parameters k is 17.883664535504817 and b is 31.382541953458013\n",
      "Iteration 100, the loss is 121.20153211166168, parameters k is 17.877379901117465 and b is 31.38154195345801\n",
      "Iteration 101, the loss is 121.16103548227908, parameters k is 17.871095266730112 and b is 31.38054195345801\n",
      "Iteration 102, the loss is 121.12053885289636, parameters k is 17.86481063234276 and b is 31.37954195345801\n",
      "Iteration 103, the loss is 121.08004222351366, parameters k is 17.858525997955407 and b is 31.378541953458008\n",
      "Iteration 104, the loss is 121.03954559413094, parameters k is 17.852241363568055 and b is 31.377541953458007\n",
      "Iteration 105, the loss is 120.99904896474827, parameters k is 17.845956729180703 and b is 31.376541953458005\n",
      "Iteration 106, the loss is 120.95855233536554, parameters k is 17.83967209479335 and b is 31.375541953458004\n",
      "Iteration 107, the loss is 120.91805570598295, parameters k is 17.833387460405998 and b is 31.374541953458003\n",
      "Iteration 108, the loss is 120.87755907660018, parameters k is 17.827102826018645 and b is 31.373541953458002\n",
      "Iteration 109, the loss is 120.83706244721739, parameters k is 17.820818191631293 and b is 31.372541953458\n",
      "Iteration 110, the loss is 120.79656581783486, parameters k is 17.81453355724394 and b is 31.371541953458\n",
      "Iteration 111, the loss is 120.75606918845209, parameters k is 17.80824892285659 and b is 31.370541953457998\n",
      "Iteration 112, the loss is 120.7155725590694, parameters k is 17.801964288469236 and b is 31.369541953457997\n",
      "Iteration 113, the loss is 120.67507592968676, parameters k is 17.795679654081884 and b is 31.368541953457996\n",
      "Iteration 114, the loss is 120.63457930030403, parameters k is 17.78939501969453 and b is 31.367541953457994\n",
      "Iteration 115, the loss is 120.5940826709213, parameters k is 17.78311038530718 and b is 31.366541953457993\n",
      "Iteration 116, the loss is 120.55358604153876, parameters k is 17.776825750919826 and b is 31.365541953457992\n",
      "Iteration 117, the loss is 120.51308941215599, parameters k is 17.770541116532474 and b is 31.36454195345799\n",
      "Iteration 118, the loss is 120.47259278277328, parameters k is 17.76425648214512 and b is 31.36354195345799\n",
      "Iteration 119, the loss is 120.43209615339046, parameters k is 17.75797184775777 and b is 31.36254195345799\n",
      "Iteration 120, the loss is 120.39159952400799, parameters k is 17.751687213370417 and b is 31.361541953457987\n",
      "Iteration 121, the loss is 120.35110289462526, parameters k is 17.745402578983065 and b is 31.360541953457986\n",
      "Iteration 122, the loss is 120.31060626524258, parameters k is 17.739117944595712 and b is 31.359541953457985\n",
      "Iteration 123, the loss is 120.27010963585977, parameters k is 17.73283331020836 and b is 31.358541953457983\n",
      "Iteration 124, the loss is 120.22961300647717, parameters k is 17.726548675821007 and b is 31.357541953457982\n",
      "Iteration 125, the loss is 120.18911637709436, parameters k is 17.720264041433655 and b is 31.35654195345798\n",
      "Iteration 126, the loss is 120.14861974771168, parameters k is 17.713979407046303 and b is 31.35554195345798\n",
      "Iteration 127, the loss is 120.10812311832899, parameters k is 17.70769477265895 and b is 31.35454195345798\n",
      "Iteration 128, the loss is 120.06762648894643, parameters k is 17.701410138271598 and b is 31.353541953457977\n",
      "Iteration 129, the loss is 120.02712985956367, parameters k is 17.695125503884245 and b is 31.352541953457976\n",
      "Iteration 130, the loss is 119.986633230181, parameters k is 17.688840869496893 and b is 31.351541953457975\n",
      "Iteration 131, the loss is 119.94613660079837, parameters k is 17.68255623510954 and b is 31.350541953457974\n",
      "Iteration 132, the loss is 119.90563997141578, parameters k is 17.67627160072219 and b is 31.349541953457972\n",
      "Iteration 133, the loss is 119.86514334203294, parameters k is 17.669986966334836 and b is 31.34854195345797\n",
      "Iteration 134, the loss is 119.82464671265022, parameters k is 17.663702331947484 and b is 31.34754195345797\n",
      "Iteration 135, the loss is 119.78415008326755, parameters k is 17.65741769756013 and b is 31.34654195345797\n",
      "Iteration 136, the loss is 119.74365345388475, parameters k is 17.65113306317278 and b is 31.345541953457968\n",
      "Iteration 137, the loss is 119.70315682450232, parameters k is 17.644848428785426 and b is 31.344541953457966\n",
      "Iteration 138, the loss is 119.66266019511957, parameters k is 17.638563794398074 and b is 31.343541953457965\n",
      "Iteration 139, the loss is 119.62216356573681, parameters k is 17.63227916001072 and b is 31.342541953457964\n",
      "Iteration 140, the loss is 119.58166693635407, parameters k is 17.62599452562337 and b is 31.341541953457963\n",
      "Iteration 141, the loss is 119.54117030697135, parameters k is 17.619709891236017 and b is 31.34054195345796\n",
      "Iteration 142, the loss is 119.50067367758872, parameters k is 17.613425256848664 and b is 31.33954195345796\n",
      "Iteration 143, the loss is 119.46017704820615, parameters k is 17.607140622461312 and b is 31.33854195345796\n",
      "Iteration 144, the loss is 119.41968041882338, parameters k is 17.60085598807396 and b is 31.337541953457958\n",
      "Iteration 145, the loss is 119.37918378944067, parameters k is 17.594571353686607 and b is 31.336541953457957\n",
      "Iteration 146, the loss is 119.33868716005806, parameters k is 17.588286719299255 and b is 31.335541953457955\n",
      "Iteration 147, the loss is 119.29819053067548, parameters k is 17.582002084911903 and b is 31.334541953457954\n",
      "Iteration 148, the loss is 119.25769390129275, parameters k is 17.57571745052455 and b is 31.333541953457953\n",
      "Iteration 149, the loss is 119.21719727190992, parameters k is 17.569432816137198 and b is 31.33254195345795\n",
      "Iteration 150, the loss is 119.1767006425273, parameters k is 17.563148181749845 and b is 31.33154195345795\n",
      "Iteration 151, the loss is 119.13620401314454, parameters k is 17.556863547362493 and b is 31.33054195345795\n",
      "Iteration 152, the loss is 119.09570738376188, parameters k is 17.55057891297514 and b is 31.329541953457948\n",
      "Iteration 153, the loss is 119.05521075437916, parameters k is 17.54429427858779 and b is 31.328541953457947\n",
      "Iteration 154, the loss is 119.01471412499649, parameters k is 17.538009644200436 and b is 31.327541953457946\n",
      "Iteration 155, the loss is 118.97421749561386, parameters k is 17.531725009813083 and b is 31.326541953457944\n",
      "Iteration 156, the loss is 118.93372086623118, parameters k is 17.52544037542573 and b is 31.325541953457943\n",
      "Iteration 157, the loss is 118.89322423684845, parameters k is 17.51915574103838 and b is 31.324541953457942\n",
      "Iteration 158, the loss is 118.85272760746574, parameters k is 17.512871106651026 and b is 31.32354195345794\n",
      "Iteration 159, the loss is 118.81223097808305, parameters k is 17.506586472263674 and b is 31.32254195345794\n",
      "Iteration 160, the loss is 118.77173434870025, parameters k is 17.50030183787632 and b is 31.32154195345794\n",
      "Iteration 161, the loss is 118.73123771931755, parameters k is 17.49401720348897 and b is 31.320541953457937\n",
      "Iteration 162, the loss is 118.69074108993499, parameters k is 17.487732569101617 and b is 31.319541953457936\n",
      "Iteration 163, the loss is 118.65024446055226, parameters k is 17.481447934714264 and b is 31.318541953457935\n",
      "Iteration 164, the loss is 118.60974783116967, parameters k is 17.475163300326912 and b is 31.317541953457933\n",
      "Iteration 165, the loss is 118.56925120178678, parameters k is 17.46887866593956 and b is 31.316541953457932\n",
      "Iteration 166, the loss is 118.52875457240422, parameters k is 17.462594031552207 and b is 31.31554195345793\n",
      "Iteration 167, the loss is 118.4882579430215, parameters k is 17.456309397164855 and b is 31.31454195345793\n",
      "Iteration 168, the loss is 118.44776131363881, parameters k is 17.450024762777502 and b is 31.31354195345793\n",
      "Iteration 169, the loss is 118.40726468425622, parameters k is 17.44374012839015 and b is 31.312541953457927\n",
      "Iteration 170, the loss is 118.36676805487338, parameters k is 17.437455494002798 and b is 31.311541953457926\n",
      "Iteration 171, the loss is 118.32627142549076, parameters k is 17.431170859615445 and b is 31.310541953457925\n",
      "Iteration 172, the loss is 118.285774796108, parameters k is 17.424886225228093 and b is 31.309541953457924\n",
      "Iteration 173, the loss is 118.24527816672534, parameters k is 17.41860159084074 and b is 31.308541953457922\n",
      "Iteration 174, the loss is 118.20478153734263, parameters k is 17.412316956453388 and b is 31.30754195345792\n",
      "Iteration 175, the loss is 118.16428490795992, parameters k is 17.406032322066036 and b is 31.30654195345792\n",
      "Iteration 176, the loss is 118.12378827857732, parameters k is 17.399747687678683 and b is 31.30554195345792\n",
      "Iteration 177, the loss is 118.08329164919466, parameters k is 17.39346305329133 and b is 31.304541953457917\n",
      "Iteration 178, the loss is 118.04279501981199, parameters k is 17.38717841890398 and b is 31.303541953457916\n",
      "Iteration 179, the loss is 118.00229839042926, parameters k is 17.380893784516626 and b is 31.302541953457915\n",
      "Iteration 180, the loss is 117.96180176104671, parameters k is 17.374609150129274 and b is 31.301541953457914\n",
      "Iteration 181, the loss is 117.92130513166387, parameters k is 17.36832451574192 and b is 31.300541953457913\n",
      "Iteration 182, the loss is 117.88080850228113, parameters k is 17.36203988135457 and b is 31.29954195345791\n",
      "Iteration 183, the loss is 117.84031187289843, parameters k is 17.355755246967217 and b is 31.29854195345791\n",
      "Iteration 184, the loss is 117.79981524351577, parameters k is 17.349470612579864 and b is 31.29754195345791\n",
      "Iteration 185, the loss is 117.75931861413311, parameters k is 17.343185978192512 and b is 31.296541953457908\n",
      "Iteration 186, the loss is 117.71882198475042, parameters k is 17.33690134380516 and b is 31.295541953457906\n",
      "Iteration 187, the loss is 117.6783253553677, parameters k is 17.330616709417807 and b is 31.294541953457905\n",
      "Iteration 188, the loss is 117.63782872598503, parameters k is 17.324332075030455 and b is 31.293541953457904\n",
      "Iteration 189, the loss is 117.59733209660239, parameters k is 17.318047440643102 and b is 31.292541953457903\n",
      "Iteration 190, the loss is 117.55683546721967, parameters k is 17.31176280625575 and b is 31.2915419534579\n",
      "Iteration 191, the loss is 117.51633883783697, parameters k is 17.305478171868398 and b is 31.2905419534579\n",
      "Iteration 192, the loss is 117.47584220845435, parameters k is 17.299193537481045 and b is 31.2895419534579\n",
      "Iteration 193, the loss is 117.43534557907161, parameters k is 17.292908903093693 and b is 31.288541953457898\n",
      "Iteration 194, the loss is 117.39484894968889, parameters k is 17.28662426870634 and b is 31.287541953457897\n",
      "Iteration 195, the loss is 117.35435232030625, parameters k is 17.280339634318988 and b is 31.286541953457895\n",
      "Iteration 196, the loss is 117.31385569092349, parameters k is 17.274054999931636 and b is 31.285541953457894\n",
      "Iteration 197, the loss is 117.27335906154087, parameters k is 17.267770365544283 and b is 31.284541953457893\n",
      "Iteration 198, the loss is 117.232862432158, parameters k is 17.26148573115693 and b is 31.283541953457892\n",
      "Iteration 199, the loss is 117.19236580277534, parameters k is 17.25520109676958 and b is 31.28254195345789\n"
     ]
    }
   ],
   "source": [
    "#initialized parameters\n",
    "\n",
    "k = random.random() * 200 - 100  # -100 100\n",
    "b = random.random() * 200 - 100  # -100 100\n",
    "\n",
    "learning_rate = 1e-3\n",
    "\n",
    "iteration_num = 200 \n",
    "losses = []\n",
    "for i in range(iteration_num):\n",
    "    \n",
    "    price_use_current_parameters = [price(r, k, b) for r in X_rm]  # \\hat{y}\n",
    "    \n",
    "    current_loss = loss(y, price_use_current_parameters)\n",
    "    losses.append(current_loss)\n",
    "    print(\"Iteration {}, the loss is {}, parameters k is {} and b is {}\".format(i,current_loss,k,b))\n",
    "    \n",
    "    k_gradient = partial_derivative_k(X_rm, y, price_use_current_parameters)\n",
    "    b_gradient = partial_derivative_b(y, price_use_current_parameters)\n",
    "    \n",
    "    k = k + (-1 * k_gradient) * learning_rate\n",
    "    b = b + (-1 * b_gradient) * learning_rate\n",
    "best_k = k\n",
    "best_b = b"
   ]
  },
  {
   "cell_type": "markdown",
   "metadata": {},
   "source": [
    "<评阅点>\n",
    "+ 是否将Loss改成了“绝对值”(3')\n",
    "+ 是否完成了偏导的重新定义(5')\n",
    "+ 新的模型Loss是否能够收敛 (11’)"
   ]
  },
  {
   "cell_type": "markdown",
   "metadata": {},
   "source": []
  }
 ],
 "metadata": {
  "kernelspec": {
   "display_name": "Python 3",
   "language": "python",
   "name": "python3"
  },
  "language_info": {
   "codemirror_mode": {
    "name": "ipython",
    "version": 3
   },
   "file_extension": ".py",
   "mimetype": "text/x-python",
   "name": "python",
   "nbconvert_exporter": "python",
   "pygments_lexer": "ipython3",
   "version": "3.6.9"
  }
 },
 "nbformat": 4,
 "nbformat_minor": 2
}
