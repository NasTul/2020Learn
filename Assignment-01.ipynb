{
 "cells": [
  {
   "cell_type": "markdown",
   "metadata": {},
   "source": [
    "## Lesson-01 Assignment"
   ]
  },
  {
   "cell_type": "markdown",
   "metadata": {},
   "source": [
    "#### 今天是2020年1月05日，今天世界上又多了一名AI工程师 :) "
   ]
  },
  {
   "cell_type": "markdown",
   "metadata": {},
   "source": [
    "`各位同学大家好，欢迎各位开始学习我们的人工智能课程。这门课程假设大家不具备机器学习和人工智能的知识，但是希望大家具备初级的Python编程能力。根据往期同学的实际反馈，我们课程的完结之后 能力能够超过80%的计算机人工智能/深度学习方向的硕士生的能力。`"
   ]
  },
  {
   "cell_type": "markdown",
   "metadata": {},
   "source": [
    "## 本次作业的内容"
   ]
  },
  {
   "cell_type": "markdown",
   "metadata": {},
   "source": [
    "#### 1. 复现课堂代码\n",
    "\n",
    "在本部分，你需要参照我们给大家的GitHub地址里边的课堂代码，结合课堂内容，复现内容。"
   ]
  },
  {
   "cell_type": "markdown",
   "metadata": {},
   "source": [
    "#### 2. 作业截止时间\n",
    "此次作业截止时间为 2020.01.12日"
   ]
  },
  {
   "cell_type": "markdown",
   "metadata": {},
   "source": [
    "#### 3. 完成以下问答和编程练习"
   ]
  },
  {
   "cell_type": "markdown",
   "metadata": {},
   "source": [
    ">"
   ]
  },
  {
   "cell_type": "markdown",
   "metadata": {},
   "source": [
    "## 基础理论部分"
   ]
  },
  {
   "cell_type": "markdown",
   "metadata": {},
   "source": [
    "> **评阅点**：每道题是否回答完整"
   ]
  },
  {
   "cell_type": "markdown",
   "metadata": {},
   "source": [
    "#### 0. Can you come up out 3 sceneraies which use AI methods? "
   ]
  },
  {
   "cell_type": "markdown",
   "metadata": {},
   "source": [
    "Ans: {Put your answer here}\n",
    "自动驾驶汽车\n",
    "新闻内容推荐\n",
    "精确医疗"
   ]
  },
  {
   "cell_type": "markdown",
   "metadata": {},
   "source": [
    "#### 1. How do we use Github; Why do we use Jupyter and Pycharm;"
   ]
  },
  {
   "cell_type": "markdown",
   "metadata": {},
   "source": [
    "Ans: {Put your answer here}\n",
    "Github 是目前全球最大的开源代码托管平台，我们可以利用它去分享自己的开源代码， 也可以在上面找到优秀的开源项目\n",
    "Jupter 可以在运行中保存中间变量的信息，方便分析\n",
    "Pycharm 方便环境管理"
   ]
  },
  {
   "cell_type": "markdown",
   "metadata": {},
   "source": [
    "#### 2. What's the Probability Model?"
   ]
  },
  {
   "cell_type": "markdown",
   "metadata": {},
   "source": [
    "Ans: 描述随机变量之间的概率关系的数学模型"
   ]
  },
  {
   "cell_type": "markdown",
   "metadata": {},
   "source": [
    "#### 3. Can you came up with some sceneraies at which we could use Probability Model?"
   ]
  },
  {
   "cell_type": "markdown",
   "metadata": {},
   "source": [
    "Ans:利用以往的天气数据预测未来天气的可能性"
   ]
  },
  {
   "cell_type": "markdown",
   "metadata": {},
   "source": [
    "#### 4. Why do we use probability and what's the difficult points for programming based on parsing and pattern match?"
   ]
  },
  {
   "cell_type": "markdown",
   "metadata": {},
   "source": [
    "Ans:  通过概率来判断一个句子是否是对的。要给所有的情况都定义一个规则太难了。"
   ]
  },
  {
   "cell_type": "markdown",
   "metadata": {},
   "source": [
    "#### 5. What's the Language Model;"
   ]
  },
  {
   "cell_type": "markdown",
   "metadata": {},
   "source": [
    "Ans: 计算一个句子出现的概率的模型"
   ]
  },
  {
   "cell_type": "markdown",
   "metadata": {},
   "source": [
    "#### 6. Can you came up with some sceneraies at which we could use Language Model?\n"
   ]
  },
  {
   "cell_type": "markdown",
   "metadata": {},
   "source": [
    "Ans:语音识别"
   ]
  },
  {
   "cell_type": "markdown",
   "metadata": {},
   "source": [
    "#### 7. What's the 1-gram language model;"
   ]
  },
  {
   "cell_type": "markdown",
   "metadata": {},
   "source": [
    "Ans: 当前的单词在后一个单词出现的情况下出现的概率， P(Y|X)"
   ]
  },
  {
   "cell_type": "markdown",
   "metadata": {},
   "source": [
    "#### 8. What's the disadvantages and advantages of 1-gram language model;"
   ]
  },
  {
   "cell_type": "markdown",
   "metadata": {},
   "source": [
    "Ans:不能捕获更长距离的上下文关系"
   ]
  },
  {
   "cell_type": "markdown",
   "metadata": {},
   "source": [
    "#### 9. What't the 2-gram models;"
   ]
  },
  {
   "cell_type": "markdown",
   "metadata": {},
   "source": [
    "Ans:当前的单词在后两个单词出现的情况下出现的概率， P(Y|X，Z)"
   ]
  },
  {
   "cell_type": "markdown",
   "metadata": {},
   "source": [
    "## 编程实践部分"
   ]
  },
  {
   "cell_type": "markdown",
   "metadata": {},
   "source": [
    "#### 1. 设计你自己的句子生成器"
   ]
  },
  {
   "cell_type": "markdown",
   "metadata": {},
   "source": [
    "如何生成句子是一个很经典的问题，从1940s开始，图灵提出机器智能的时候，就使用的是人类能不能流畅和计算机进行对话。和计算机对话的一个前提是，计算机能够生成语言。\n",
    "\n",
    "计算机如何能生成语言是一个经典但是又很复杂的问题。 我们课程上为大家介绍的是一种基于规则（Rule Based）的生成方法。该方法虽然提出的时间早，但是现在依然在很多地方能够大显身手。值得说明的是，现在很多很实用的算法，都是很久之前提出的，例如，二分查找提出与1940s, Dijstra算法提出于1960s 等等。"
   ]
  },
  {
   "cell_type": "markdown",
   "metadata": {},
   "source": [
    "在著名的电视剧，电影《西部世界》中，这些机器人们语言生成的方法就是使用的SyntaxTree生成语言的方法。\n",
    "\n",
    "> \n",
    ">\n",
    "\n",
    "![WstWorld](https://timgsa.baidu.com/timg?image&quality=80&size=b9999_10000&sec=1569578233461&di=4adfa7597fb380e7cc0e67190bbd7605&imgtype=0&src=http%3A%2F%2Fs1.sinaimg.cn%2Flarge%2F006eYYfyzy76cmpG3Yb1f)\n",
    "\n",
    "> \n",
    ">"
   ]
  },
  {
   "cell_type": "markdown",
   "metadata": {},
   "source": [
    "在这一部分，需要各位同学首先定义自己的语言。 大家可以先想一个应用场景，然后在这个场景下，定义语法。例如：\n",
    "\n",
    "在西部世界里，一个”人类“的语言可以定义为：\n",
    "``` \n",
    "human = \"\"\"\n",
    "human = 自己 寻找 活动\n",
    "自己 = 我 | 俺 | 我们 \n",
    "寻找 = 看看 | 找找 | 想找点\n",
    "活动 = 乐子 | 玩的\n",
    "\"\"\"\n",
    "```\n",
    "\n",
    "一个“接待员”的语言可以定义为\n",
    "```\n",
    "host = \"\"\"\n",
    "host = 寒暄 报数 询问 业务相关 结尾 \n",
    "报数 = 我是 数字 号 ,\n",
    "数字 = 单个数字 | 数字 单个数字 \n",
    "单个数字 = 1 | 2 | 3 | 4 | 5 | 6 | 7 | 8 | 9 \n",
    "寒暄 = 称谓 打招呼 | 打招呼\n",
    "称谓 = 人称 ,\n",
    "人称 = 先生 | 女士 | 小朋友\n",
    "打招呼 = 你好 | 您好 \n",
    "询问 = 请问你要 | 您需要\n",
    "业务相关 = 玩玩 具体业务\n",
    "玩玩 = 耍一耍 | 玩一玩\n",
    "具体业务 = 喝酒 | 打牌 | 打猎 | 赌博\n",
    "结尾 = 吗？\"\"\"\n",
    "\n",
    "```\n",
    "\n",
    "\n"
   ]
  },
  {
   "cell_type": "markdown",
   "metadata": {},
   "source": [
    "请定义你自己的语法: "
   ]
  },
  {
   "cell_type": "markdown",
   "metadata": {},
   "source": [
    "第一个语法："
   ]
  },
  {
   "cell_type": "code",
   "execution_count": 31,
   "metadata": {},
   "outputs": [],
   "source": [
    "doctor = '''\n",
    "doctor => polite interrogative auxiliary pronoun position verb\n",
    "polite => good morning, | good afternoon, | good evening, | how are you,\n",
    "interrogative => How\n",
    "auxiliary => does\n",
    "pronoun => your | their \n",
    "position => body | stomach | head\n",
    "verb => feeling\n",
    "\n",
    "'''"
   ]
  },
  {
   "cell_type": "markdown",
   "metadata": {},
   "source": [
    "> **评阅点**： 是否提出了和课程上区别较大的语法结构"
   ]
  },
  {
   "cell_type": "markdown",
   "metadata": {},
   "source": [
    "第二个语法："
   ]
  },
  {
   "cell_type": "code",
   "execution_count": 4,
   "metadata": {},
   "outputs": [],
   "source": [
    "patient  = '''\n",
    "patient => pronoun verb adj\n",
    "pronoun => I | they\n",
    "verb => feel\n",
    "adj => not good | bad | weak\n",
    "'''"
   ]
  },
  {
   "cell_type": "code",
   "execution_count": 26,
   "metadata": {},
   "outputs": [
    {
     "data": {
      "text/plain": [
       "'\\npatient => pronoun verb adj\\npronoun => I | they\\nverb => feel\\nadj => not good | bad | weak\\n'"
      ]
     },
     "execution_count": 26,
     "metadata": {},
     "output_type": "execute_result"
    }
   ],
   "source": [
    "patient"
   ]
  },
  {
   "cell_type": "markdown",
   "metadata": {},
   "source": [
    "> **评阅点**：是否和上一个语法区别比较大"
   ]
  },
  {
   "cell_type": "markdown",
   "metadata": {},
   "source": [
    "TODO: 然后，使用自己之前定义的generate函数，使用此函数生成句子。"
   ]
  },
  {
   "cell_type": "code",
   "execution_count": 1,
   "metadata": {},
   "outputs": [],
   "source": [
    "def create_grammar(grammar_str, split='=>', line_split='\\n'):\n",
    "    grammar = {}\n",
    "    for line in grammar_str.split(line_split):\n",
    "        if not line.strip(): continue\n",
    "        exp, stmt = line.split(split)\n",
    "        grammar[exp.strip()] = [s.split() for s in stmt.split('|')]\n",
    "    return grammar"
   ]
  },
  {
   "cell_type": "code",
   "execution_count": 41,
   "metadata": {},
   "outputs": [],
   "source": [
    "def create_grammar(grammar_str, split='=>', line_split='\\n'):\n",
    "    grammar = {}\n",
    "    for line in grammar_str.split(line_split):\n",
    "        #每一行去除空格后的字符串\n",
    "        if not line.strip(): continue\n",
    "        #用=》分割，前后两部分\n",
    "        exp, stmt = line.split(split)\n",
    "        #取出右边的放入字典中\n",
    "        grammar[exp.strip()] = [s.split() for s in stmt.split('|')]\n",
    "    return grammar"
   ]
  },
  {
   "cell_type": "code",
   "execution_count": 40,
   "metadata": {},
   "outputs": [
    {
     "name": "stdout",
     "output_type": "stream",
     "text": [
      "\n",
      "doctor => polite interrogative auxiliary pronoun position verb\n",
      "polite => good morning, | good afternoon, | good evening, | how are you,\n",
      "interrogative => How\n",
      "auxiliary => does\n",
      "pronoun => your | their \n",
      "position => body | stomach | head\n",
      "verb => feeling\n",
      "\n",
      "\n"
     ]
    },
    {
     "data": {
      "text/plain": [
       "{'doctor': [['polite',\n",
       "   'interrogative',\n",
       "   'auxiliary',\n",
       "   'pronoun',\n",
       "   'position',\n",
       "   'verb']],\n",
       " 'polite': [['good', 'morning,'],\n",
       "  ['good', 'afternoon,'],\n",
       "  ['good', 'evening,'],\n",
       "  ['how', 'are', 'you,']],\n",
       " 'interrogative': [['How']],\n",
       " 'auxiliary': [['does']],\n",
       " 'pronoun': [['your'], ['their']],\n",
       " 'position': [['body'], ['stomach'], ['head']],\n",
       " 'verb': [['feeling']]}"
      ]
     },
     "execution_count": 40,
     "metadata": {},
     "output_type": "execute_result"
    }
   ],
   "source": [
    "grammar = create_grammar(doctor)\n",
    "grammar"
   ]
  },
  {
   "cell_type": "code",
   "execution_count": 7,
   "metadata": {},
   "outputs": [],
   "source": [
    "import random"
   ]
  },
  {
   "cell_type": "code",
   "execution_count": 51,
   "metadata": {},
   "outputs": [],
   "source": [
    "choice = random.choice\n",
    "\n",
    "def generate(gram, target):\n",
    "    #如果target不是最外层字典的key，那么就直接返回target\n",
    "    if target not in gram: return target # means target is a terminal expression\n",
    "    #random,choice 第一个target由于二维数组中第一维只有一个元素，所以返回句子的结构\n",
    "    #然后分别将句子构成的元素作为target传入，随机选择语法树字典中对应的元素，并且返回，\n",
    "    #此时只返回一个元素，并且由于并不在target中，所以直接返回该元素\n",
    "    expaned = [generate(gram, t) for t in choice(gram[target])]\n",
    "    #如果expanded 里面的元素不是换行符则\n",
    "    return ' '.join([e if e != '/n' else '\\n' for e in expaned if e != 'null'])"
   ]
  },
  {
   "cell_type": "code",
   "execution_count": 52,
   "metadata": {},
   "outputs": [
    {
     "data": {
      "text/plain": [
       "'good evening, How does your head feeling'"
      ]
     },
     "execution_count": 52,
     "metadata": {},
     "output_type": "execute_result"
    }
   ],
   "source": [
    "generate(gram=grammar, target='doctor')"
   ]
  },
  {
   "cell_type": "markdown",
   "metadata": {},
   "source": [
    "TODO: 然后，定义一个函数，generate_n，将generate扩展，使其能够生成n个句子:"
   ]
  },
  {
   "cell_type": "code",
   "execution_count": 37,
   "metadata": {},
   "outputs": [],
   "source": [
    "def generate_n(n):\n",
    "    # you code here \n",
    "    for i in range(n):\n",
    "        print(generate(gram=grammar, target='doctor'))\n"
   ]
  },
  {
   "cell_type": "code",
   "execution_count": 38,
   "metadata": {},
   "outputs": [
    {
     "name": "stdout",
     "output_type": "stream",
     "text": [
      "good morning, How does their body feeling\n",
      "good morning, How does your body feeling\n",
      "good afternoon, How does their body feeling\n",
      "how are you, How does their stomach feeling\n",
      "good morning, How does their body feeling\n",
      "good morning, How does your stomach feeling\n",
      "good afternoon, How does their body feeling\n",
      "how are you, How does your stomach feeling\n",
      "how are you, How does their stomach feeling\n",
      "good evening, How does your stomach feeling\n"
     ]
    }
   ],
   "source": [
    "generate_n(10)"
   ]
  },
  {
   "cell_type": "markdown",
   "metadata": {},
   "source": [
    "> **评阅点**; 运行代码，观察是否能够生成多个句子"
   ]
  },
  {
   "cell_type": "markdown",
   "metadata": {},
   "source": [
    "#### 2. 使用新数据源完成语言模型的训练"
   ]
  },
  {
   "cell_type": "markdown",
   "metadata": {},
   "source": [
    "按照我们上文中定义的`prob_2`函数，我们更换一个文本数据源，获得新的Language Model:\n",
    "\n",
    "1. 下载文本数据集（你可以在以下数据集中任选一个，也可以两个都使用）\n",
    "    + 可选数据集1，保险行业问询对话集： https://github.com/Computing-Intelligence/insuranceqa-corpus-zh/raw/release/corpus/pool/train.txt.gz\n",
    "    + 可选数据集2：豆瓣评论数据集：https://github.com/Computing-Intelligence/datasource/raw/master/movie_comments.csv\n",
    "2. 修改代码，获得新的**2-gram**语言模型\n",
    "    + 进行文本清洗，获得所有的纯文本\n",
    "    + 将这些文本进行切词\n",
    "    + 送入之前定义的语言模型中，判断文本的合理程度"
   ]
  },
  {
   "cell_type": "markdown",
   "metadata": {},
   "source": [
    "> **评阅点** 1. 是否使用了新的数据集； 2. csv(txt)数据是否正确解析"
   ]
  },
  {
   "cell_type": "code",
   "execution_count": 65,
   "metadata": {
    "scrolled": true
   },
   "outputs": [],
   "source": [
    "filename = './train.txt'\n",
    "import pandas as pd\n",
    "data=[]\n",
    "with open(filename,encoding=\"utf-8\") as f:\n",
    "    line = f.readline()\n",
    "    while line:\n",
    "        data.append(line)\n",
    "        line = f.readline()\n",
    "content=[]\n",
    "for i in data:\n",
    "    subdata=i.split(\"++$++\")\n",
    "    content.append(subdata)"
   ]
  },
  {
   "cell_type": "code",
   "execution_count": 134,
   "metadata": {},
   "outputs": [
    {
     "data": {
      "text/html": [
       "<div>\n",
       "<style scoped>\n",
       "    .dataframe tbody tr th:only-of-type {\n",
       "        vertical-align: middle;\n",
       "    }\n",
       "\n",
       "    .dataframe tbody tr th {\n",
       "        vertical-align: top;\n",
       "    }\n",
       "\n",
       "    .dataframe thead th {\n",
       "        text-align: right;\n",
       "    }\n",
       "</style>\n",
       "<table border=\"1\" class=\"dataframe\">\n",
       "  <thead>\n",
       "    <tr style=\"text-align: right;\">\n",
       "      <th></th>\n",
       "      <th>type</th>\n",
       "      <th>ch</th>\n",
       "      <th>en</th>\n",
       "    </tr>\n",
       "    <tr>\n",
       "      <th>id</th>\n",
       "      <th></th>\n",
       "      <th></th>\n",
       "      <th></th>\n",
       "    </tr>\n",
       "  </thead>\n",
       "  <tbody>\n",
       "    <tr>\n",
       "      <th>0</th>\n",
       "      <td>disability-insurance</td>\n",
       "      <td>法律要求残疾保险吗？</td>\n",
       "      <td>Is  Disability  Insurance  Required  By  Law?\\n</td>\n",
       "    </tr>\n",
       "    <tr>\n",
       "      <th>1</th>\n",
       "      <td>life-insurance</td>\n",
       "      <td>债权人可以在死后人寿保险吗？</td>\n",
       "      <td>Can  Creditors  Take  Life  Insurance  After ...</td>\n",
       "    </tr>\n",
       "    <tr>\n",
       "      <th>2</th>\n",
       "      <td>renters-insurance</td>\n",
       "      <td>旅行者保险有租赁保险吗？</td>\n",
       "      <td>Does  Travelers  Insurance  Have  Renters  In...</td>\n",
       "    </tr>\n",
       "    <tr>\n",
       "      <th>3</th>\n",
       "      <td>auto-insurance</td>\n",
       "      <td>我可以开一辆没有保险的新车吗？</td>\n",
       "      <td>Can  I  Drive  A  New  Car  Home  Without  In...</td>\n",
       "    </tr>\n",
       "    <tr>\n",
       "      <th>4</th>\n",
       "      <td>life-insurance</td>\n",
       "      <td>人寿保险的现金转出价值是否应纳税？</td>\n",
       "      <td>Is  The  Cash  Surrender  Value  Of  Life  In...</td>\n",
       "    </tr>\n",
       "  </tbody>\n",
       "</table>\n",
       "</div>"
      ],
      "text/plain": [
       "                      type                   ch  \\\n",
       "id                                                \n",
       "0    disability-insurance           法律要求残疾保险吗？    \n",
       "1          life-insurance       债权人可以在死后人寿保险吗？    \n",
       "2       renters-insurance         旅行者保险有租赁保险吗？    \n",
       "3          auto-insurance      我可以开一辆没有保险的新车吗？    \n",
       "4          life-insurance    人寿保险的现金转出价值是否应纳税？    \n",
       "\n",
       "                                                   en  \n",
       "id                                                     \n",
       "0     Is  Disability  Insurance  Required  By  Law?\\n  \n",
       "1    Can  Creditors  Take  Life  Insurance  After ...  \n",
       "2    Does  Travelers  Insurance  Have  Renters  In...  \n",
       "3    Can  I  Drive  A  New  Car  Home  Without  In...  \n",
       "4    Is  The  Cash  Surrender  Value  Of  Life  In...  "
      ]
     },
     "execution_count": 134,
     "metadata": {},
     "output_type": "execute_result"
    }
   ],
   "source": [
    "import pandas as pd\n",
    "df=pd.DataFrame(content)\n",
    "df.columns = ['id', 'type','ch','en']\n",
    "df=df.set_index(['id'])\n",
    "df.head()"
   ]
  },
  {
   "cell_type": "code",
   "execution_count": 98,
   "metadata": {},
   "outputs": [
    {
     "data": {
      "text/plain": [
       "[(' ', 15),\n",
       " ('Can', 1),\n",
       " ('I', 1),\n",
       " ('Get', 1),\n",
       " ('Life', 1),\n",
       " ('Insurance', 1),\n",
       " ('After', 1),\n",
       " ('Breast', 1),\n",
       " ('Cancer', 1),\n",
       " ('?', 1)]"
      ]
     },
     "execution_count": 98,
     "metadata": {},
     "output_type": "execute_result"
    }
   ],
   "source": [
    "dialogue =df[\"en\"].tolist()\n",
    "import jieba\n",
    "import re\n",
    "#\\w 匹配字母或数字或下划线或汉字\n",
    "def token(string):\n",
    "    # we will learn the regular expression next course.\n",
    "    return re.findall('\\w+', string)\n",
    "from collections import Counter\n",
    "with_jieba_cut = Counter(jieba.cut(dialogue[110]))\n",
    "with_jieba_cut.most_common()[:10]"
   ]
  },
  {
   "cell_type": "code",
   "execution_count": 101,
   "metadata": {},
   "outputs": [],
   "source": [
    "#将每句话清洗一遍\n",
    "dialogue_clean = [' '.join(token(str(a)))for a in dialogue]"
   ]
  },
  {
   "cell_type": "code",
   "execution_count": 110,
   "metadata": {},
   "outputs": [
    {
     "data": {
      "text/plain": [
       "['Is Disability Insurance Required By Law',\n",
       " 'Can Creditors Take Life Insurance After Death',\n",
       " 'Does Travelers Insurance Have Renters Insurance',\n",
       " 'Can I Drive A New Car Home Without Insurance',\n",
       " 'Is The Cash Surrender Value Of Life Insurance Taxable',\n",
       " 'How Is Annuity Income Reported',\n",
       " 'What Does AAA Home Insurance Cover',\n",
       " 'What Is A Simple Retirement Plan',\n",
       " 'What Does Social Security Disability Insurance Cover',\n",
       " 'Is Car Insurance Prepaid',\n",
       " 'What Does Medicare Part B Cover',\n",
       " 'Can Veterans Get Life Insurance',\n",
       " 'Does My Homeowners Insurance Cover Lost Wedding Ring',\n",
       " 'How Does Assigned Risk Auto Insurance Work',\n",
       " 'Can My Boyfriend Add Me To His Car Insurance',\n",
       " 'Do I Need A Police Report To Submit A Claim For A Car Accident On Private Property',\n",
       " 'Does Full Coverage Auto Insurance Cover Repairs',\n",
       " 'Is Life Insurance Acceptable In Islam',\n",
       " 'Will Health Insurance Cover A Tubal Reversal',\n",
       " 'How Much Life Insurance Can You Get If You Have Been Diagnosed With Breast Cancer',\n",
       " 'What Do I Need To Register For Medicare',\n",
       " 'Does Short Term Disability Insurance Work',\n",
       " 'Will Homeowners Insurance Cover Pool',\n",
       " 'When Do I Have To Sign Up For Medicare',\n",
       " 'Will An MIP Affect My Car Insurance',\n",
       " 'Does Blue Cross Blue Shield Have Life Insurance',\n",
       " 'What Are The Advantages And Disadvantages To Long Term Care Insurance',\n",
       " 'Will Medicare Pay For Life Alert',\n",
       " 'Which Life Insurance Should I Buy',\n",
       " 'Does Medicare Pay For HPV Screening',\n",
       " 'Which Is The Best Life Insurance To Get',\n",
       " 'How Much Should Long Term Care Insurance Cost',\n",
       " 'How Safe Are Fixed Annuities',\n",
       " 'How Long Does It Take To Settle A Life Insurance Claim',\n",
       " 'Is Car Insurance Credit Checked',\n",
       " 'Can I Use HSA To Pay For Long Term Care Insurance',\n",
       " 'Can Employers Charge Smokers More For Health Insurance',\n",
       " 'What Does Home Owners Insurance Usually Cover',\n",
       " 'How Much Does An Ultrasound Cost Without Health Insurance',\n",
       " 'What Is 10 Yr Term Life Insurance',\n",
       " 'Can You Put Money In A 401K And A Roth IRA',\n",
       " 'Can I Get Health Insurance With Hepatitis C',\n",
       " 'When Can I Enroll In Medicare Part A',\n",
       " 'When Did Health Insurance Originate',\n",
       " 'How Important Is Health Care Insurance',\n",
       " 'How Much Does It Cost To Get Renters Insurance',\n",
       " 'Does My Home Insurance Cover Theft',\n",
       " 'How Does Renters Insurance Benefit The Landlord',\n",
       " 'Do Ohio Employers Have To Offer Health Insurance',\n",
       " 'How Much Auto Insurance Should I Have',\n",
       " 'Why Does Homeowners Insurance Increase',\n",
       " 'Who Can Buy Medicare',\n",
       " 'How To Remove Medicare Part B',\n",
       " 'At What Age Should I Get Long Term Care Insurance',\n",
       " 'When Are Life Insurance Death Benefits Taxable',\n",
       " 'What Are Medicare Savings Programs',\n",
       " 'Does Homeowners Insurance Cover Dog Bites To Other Dogs',\n",
       " 'What Does Medicare Plan A Cover',\n",
       " 'Is Whole Life Insurance A Good Option',\n",
       " 'Can Employers Contribute Different Amounts Health Insurance',\n",
       " 'What Will Happen To Medicare In The Future',\n",
       " 'Can The General Life Insurance',\n",
       " 'Will My Auto Insurance Go Up If Get Ticket',\n",
       " 'Does Renters Insurance Include Theft',\n",
       " 'What Is A Renters Insurance Policy',\n",
       " 'How Is Home Insurance Calculated',\n",
       " 'Does Homeowners Insurance Cover Sewer Repair',\n",
       " 'Does AARP Have Long Term Care Insurance',\n",
       " 'Is Short Term Disability Considered Health Insurance',\n",
       " 'At What Age Should You Get Life Insurance',\n",
       " 'Is Travelers Home Insurance Any Good',\n",
       " 'Who Can Get On Medicare',\n",
       " 'Who Has The Best Rates For Renters Insurance',\n",
       " 'Who Can Drive Your Car Under Your Insurance',\n",
       " 'Can Medicare Pay For Nursing Homes',\n",
       " 'What Happens If Car Insurance Lapses',\n",
       " 'Is Garage Door Covered By Homeowners Insurance',\n",
       " 'Where Do I Sign Up For Medicare',\n",
       " 'How To Get The Best Deal On Auto Insurance',\n",
       " 'How Do You Apply For Medicare Part D In New Jersey',\n",
       " 'Which Company Offers The Best Renters Insurance',\n",
       " 'What Are Some Characteristics Of Whole Life Insurance',\n",
       " 'What Is Annuity Kind Of Cash Flow',\n",
       " 'Can You Get Life Insurance After Breast Cancer',\n",
       " 'How To Figure Out How Much Car Insurance Will Be',\n",
       " 'How To Plan For Retirement With A 401K',\n",
       " 'What Is The Tax Penalty For Not Having Health Insurance Under Obamacare',\n",
       " 'Can You Lose Medicare Benefits',\n",
       " 'Will Homeowners Insurance Cover A Lost Diamond',\n",
       " 'How Much Do Long Term Care Insurance Policies Cost',\n",
       " 'When Should I Stop Paying For Life Insurance',\n",
       " 'What Age Do You Go On Medicare',\n",
       " 'How Can Life Insurance Companies Tell If You Are A Smoker',\n",
       " 'How To Determine If You Need Long Term Care Insurance',\n",
       " 'Who Made Car Insurance Mandatory',\n",
       " 'When Should I Get Term Life Insurance',\n",
       " 'What Does Credit Have To Do With Auto Insurance',\n",
       " 'Will Home Insurance Pay For Roof Replacement',\n",
       " 'Who Has The Best And Cheapest Car Insurance',\n",
       " 'Can You Rent A Uhaul With Car Insurance',\n",
       " 'What s Covered In Homeowners Insurance',\n",
       " 'Can I Buy Long Term Care Insurance For My Mother',\n",
       " 'What Is A Fully Paid Up Life Insurance Policy',\n",
       " 'Can I Get Life Insurance With Hypertension',\n",
       " 'How To Find Good Renters Insurance',\n",
       " 'What Is Considered A Sports Car For Insurance Purposes',\n",
       " 'What Is Covered Under Home Insurance',\n",
       " 'Why Is It Important To Plan For Retirement Now',\n",
       " 'Why Do Guys Pay More For Car Insurance',\n",
       " 'How Cheap Is Mobile Home Insurance',\n",
       " 'Can I Get Life Insurance After Breast Cancer',\n",
       " 'How Many People Use Disability Insurance',\n",
       " 'Who Is Covered Under Your Auto Insurance',\n",
       " 'What Is A Medigap Plan',\n",
       " 'How To Add A Dependent To Health Insurance',\n",
       " 'How Long Does Long Term Disability Insurance Last',\n",
       " 'Is Whole Life Insurance Bad',\n",
       " 'What Is The Average Car Insurance Rate In Utah',\n",
       " 'Does Great West Life Cover Travel Insurance',\n",
       " 'Does Term Life Insurance End At A Certain Age',\n",
       " 'Does Homeowners Insurance Cover Firearms',\n",
       " 'What Is Net Asset Value Of A Mutual Fund',\n",
       " 'Which States Have The Best Health Insurance',\n",
       " 'Why Is It Important To Plan For Retirement',\n",
       " 'How Much Disability Insurance Is Enough',\n",
       " 'What Does Rider Mean In Life Insurance',\n",
       " 'How Much Do You Pay For Long Term Care Insurance',\n",
       " 'What Can I Claim On Renters Insurance',\n",
       " 'What Does Health Insurance Rated Mean',\n",
       " 'How Would You Calculate The Expected Return On A Life Insurance Policy',\n",
       " 'Can I Get Auto Insurance Without A Driver License',\n",
       " 'When Is A Person Eligible For Medicare Part D',\n",
       " 'Is Auto Insurance A Federal Requirement',\n",
       " 'Can You Get Auto Insurance With Bad Credit',\n",
       " 'Does HIPPA Apply To Life Insurance Companies',\n",
       " 'How Much Does Auto Insurance Cost After A DUI',\n",
       " 'How Much Is Insurance When Buying A Home',\n",
       " 'What Is The Medigap Policy',\n",
       " 'Does Renters Insurance Cover A Lost Engagement Ring',\n",
       " 'Does Obamacare Cover Medigap',\n",
       " 'How Much Is Nationwide Renters Insurance',\n",
       " 'Who Sells Mortgage Life Insurance',\n",
       " 'Does My Life Insurance Cover Skydiving',\n",
       " 'Does Health Insurance Cover Skin Removal Surgery',\n",
       " 'How Much Does It Cost To See A Dermatologist Without Health Insurance',\n",
       " 'Where To Get Health Insurance With A Preexisting Condition',\n",
       " 'Does USAA Sell Life Insurance',\n",
       " 'Does The Federal Government Have Disability Insurance',\n",
       " 'What Is A Life Insurance Unit',\n",
       " 'How Much Is Disability Insurance On Average',\n",
       " 'Can You Surrender A Life Insurance Policy',\n",
       " 'Is Life Insurance Considered Income',\n",
       " 'When Should I Get Disability Insurance',\n",
       " 'How Much Does It Cost For Renters Insurance',\n",
       " 'Does New Hampshire Require Auto Insurance',\n",
       " 'How Much Of Your Salary Is Covered By Disability Insurance',\n",
       " 'Which Pharmacies Accept Medicare',\n",
       " 'How Long Will It Take To Get Car Insurance',\n",
       " 'What Is Medicare Hospice',\n",
       " 'How Do You Determine Cash Value Of Term Life Insurance Policy',\n",
       " 'Does Life Insurance Pay For Your Funeral',\n",
       " 'How Long Can You Keep A Child On Your Health Insurance',\n",
       " 'When Is Health Insurance Tax Deductible',\n",
       " 'What Does Suze Orman Say About Variable Annuities',\n",
       " 'Can I Pay Health Insurance Premiums With Fsa',\n",
       " 'Does Walmart Take Medicare',\n",
       " 'Can Auto Insurance Be Transferred',\n",
       " 'What Does SR22 Insurance Cover',\n",
       " 'Can I Get Car Insurance Without A Job',\n",
       " 'How Often Do You Pay Health Insurance',\n",
       " 'When Does The Beneficiary Collect From A Life Insurance Policy',\n",
       " 'If I Don t Have Auto Insurance Can I Rent A Car',\n",
       " 'Does Medicare Pay For Ambulance Rides',\n",
       " 'When Is Home Warranty Insurance Required',\n",
       " 'Does Home Insurance Cover Your Chimney',\n",
       " 'How Much Life Insurance Do I Need',\n",
       " 'Is Property Insurance The Same As Homeowners Insurance',\n",
       " 'Is Life Insurance Cheaper To Buy When You Are Younger',\n",
       " 'Does Aflac Offer Short Term Disability Insurance',\n",
       " 'Does Long Term Disability Cover Medical Insurance',\n",
       " 'What Does Loss Of Use Mean For Homeowners Insurance',\n",
       " 'Does Car Insurance Go On Your Credit Report',\n",
       " 'How To Drive A New Car Home Without Insurance',\n",
       " 'Why Is Auto Insurance So Expensive In Ohio',\n",
       " 'Do I Need Disability Insurance In South Carolina',\n",
       " 'Can an apartment complex require you to add them as a co policy holder on your renter s insurance',\n",
       " 'What Is Medicare Going To Cost Me',\n",
       " 'Is Hyoscyamine Covered By Medicare Part D',\n",
       " 'How Much Does Long Term Care Insurance Cost On Average',\n",
       " 'How Much Does Medicare Pay For IVF',\n",
       " 'What Is The Difference In Medicare And Medicaid',\n",
       " 'How Much Will Life Insurance Payout',\n",
       " 'Why Do You Need Disability Insurance',\n",
       " 'When Does Health Insurance Become Mandatory',\n",
       " 'Does Getting Married Affect Auto Insurance',\n",
       " 'Will The Cost Of Medicare Go Up In 2014',\n",
       " 'How Long Does Car Insurance Last',\n",
       " 'Is AAA Home Insurance Any Good',\n",
       " 'Can I Keep Insurance Money From Car Accident',\n",
       " 'Can You Go To Jail For Having No Car Insurance',\n",
       " 'Can You Get Health Insurance As A Real Estate Agent',\n",
       " 'When Is Open Enrollment For Medigap Policies',\n",
       " 'When To Use Medicare',\n",
       " 'Can An LLC Have A Retirement Plan',\n",
       " 'How Much Would Car Insurance Cost For A Ford Mustang',\n",
       " 'Will Insurance Cover A Tree Falling On My Car',\n",
       " 'What Is The Face Value Of A Term Life Insurance Policy',\n",
       " 'What Is Allianz Life Insurance',\n",
       " 'What Is Cash Surrender Value In Life Insurance',\n",
       " 'Does Renters Insurance Cover Garage Theft',\n",
       " 'Does High Cholesterol Affect Life Insurance Rates',\n",
       " 'Will Medicare Pay For A Pain Pump',\n",
       " 'What Are The Types Of Life Insurance Policies',\n",
       " 'Does State Farm Life Insurance Test For THC',\n",
       " 'Where Can I Buy Health Insurance For An Individual',\n",
       " 'When Can You Disenroll From A Medicare Advantage Plan',\n",
       " 'Does Life Insurance Go To Estate',\n",
       " 'Does Renters Insurance Cover Rodent Damage',\n",
       " 'When I Can Withdraw Money From My 401K',\n",
       " 'Can An Apartment Force You To Have Renters Insurance',\n",
       " 'Does Medigap Cover Eye Exams',\n",
       " 'Where Is The Best Place To Get Homeowners Insurance',\n",
       " 'What Does Life Insurance Maturity Mean',\n",
       " 'Does Renters Insurance Cover Scooters',\n",
       " 'Will Homeowners Insurance Cover Spoiled Food',\n",
       " 'Does home insurance cover fire',\n",
       " 'When You Quit Your Job Does Health Insurance Stop',\n",
       " 'Can You Buy Car Insurance With A Suspended License',\n",
       " 'Why Does Life Insurance Cost More For Men',\n",
       " 'What Is A Endowment Plan In Life Insurance',\n",
       " 'How Much Does Life Insurance Cost For Seniors',\n",
       " 'When To Use Your Home Insurance',\n",
       " 'Does Homeowners Insurance Cover Foundation Issues',\n",
       " 'What Happens When I Cancel Life Insurance',\n",
       " 'What Happens If I Cancel A Life Insurance Policy',\n",
       " 'How Necessary Is Disability Insurance',\n",
       " 'What Is Aetna Life Insurance',\n",
       " 'How Can I Afford Health Insurance',\n",
       " 'What Will Renters Insurance Not Cover',\n",
       " 'When Does Life Insurance Kick In',\n",
       " 'What Is The Fine For No Car Insurance',\n",
       " 'Does Renters Insurance Cover My Garage',\n",
       " 'Does Life Insurance Affect FAFSA',\n",
       " 'Can An Illegal Immigrant Get Car Insurance',\n",
       " 'Does Homeowners Insurance Cover Sump Pumps',\n",
       " 'What To Look For When Purchasing Health Insurance',\n",
       " 'Does Homeowners Insurance Cover Groundwater',\n",
       " 'Can You Get Auto Insurance Over The Phone',\n",
       " 'Is Medicare Considered Welfare',\n",
       " 'Is It Mandatory To Apply For Medicare At 65',\n",
       " 'What Type Of Retirement Plan Is Based On A Formula',\n",
       " 'What Happens If I Lie On A Life Insurance Application',\n",
       " 'Can Life Insurance Companies Check Medical Records',\n",
       " 'How Long Does A DUI Affect Life Insurance',\n",
       " 'What Does Long Term Care Insurance Mean',\n",
       " 'What Is Covered By A Retirement Plan At Work',\n",
       " 'How Much Is Car Insurance In NY',\n",
       " 'Why Should You Have A Retirement Plan',\n",
       " 'Does Short Term Disability Insurance Cover Maternity',\n",
       " 'When Does Health Insurance End When Leaving A Job',\n",
       " 'Does Life Insurance Get Taxed At Payout',\n",
       " 'Who Is The Cheapest Car Insurance For New Drivers',\n",
       " 'What Does Medigap Pay For',\n",
       " 'Why Is Men s Car Insurance Higher',\n",
       " 'Can I Rent A Car From Enterprise Without Insurance',\n",
       " 'Can Car Insurance Companies Drop You',\n",
       " 'What Is Long Term Health Insurance',\n",
       " 'Is Homeowners Insurance Increasing',\n",
       " 'What Is A Retirement Plan Fiduciary',\n",
       " 'How To Withdraw Cash Value From Life Insurance Policy',\n",
       " 'What Is Retirement Survivors And Disability Insurance',\n",
       " 'What Is The Exclusion Ratio In Annuities',\n",
       " 'What Does Disability Insurance Mean',\n",
       " 'Can An Annuity Be Rolled Into A 401K',\n",
       " 'Can You Claim A Breast Reduction On Medicare',\n",
       " 'Will My Homeowners Insurance Cover A Leaky Roof',\n",
       " 'When Does Medicare Cover Blood Tests',\n",
       " 'Can Life Insurance Companies Access Medical Records',\n",
       " 'How Much Is Term Life Insurance For 20 Years',\n",
       " 'What Is The Term Of Life Insurance',\n",
       " 'What Is An Annual Premium For Home Insurance',\n",
       " 'What Kind Of Life Insurance Should I Buy',\n",
       " 'Is Xarelto Covered By Medicare',\n",
       " 'I Was Fired When Does My Health Insurance Stop',\n",
       " 'How Does Split Dollar Life Insurance Work',\n",
       " 'Is It Ok To Cancel Life Insurance',\n",
       " 'Who Should Be Beneficiary On Life Insurance',\n",
       " 'Can You Be Dropped From Group Health Insurance',\n",
       " 'Does Life Insurance Cover Cancer',\n",
       " 'What Is Supplemental Long Term Disability Insurance',\n",
       " 'Can Married Children stay On Parents Auto Insurance',\n",
       " 'Can You Claim Medicare And Private Health',\n",
       " 'What Is A Life Insurance Annuity',\n",
       " 'What Can I Expect To Pay For Disability Insurance',\n",
       " 'What Is Mutual Whole Life Insurance',\n",
       " 'What Is A Pension Plan Sponsor',\n",
       " 'What States Have State Disability Insurance',\n",
       " 'What Is Covered By Long Term Disability Insurance',\n",
       " 'Can You Switch Home Insurance',\n",
       " 'Who To Buy Long Term Care Insurance From',\n",
       " 'Does Medicare Cover Zostavax',\n",
       " 'Is Aflac Cancer Insurance Worth It',\n",
       " 'Can You Switch Car Insurance Mid Policy',\n",
       " 'My Claim Was Denied Due To My Criminal Record Is That Right',\n",
       " 'Does Life Insurance Go On Your W2',\n",
       " 'Can Nursing Home Take Life Insurance',\n",
       " 'When Are Life Insurance Proceeds Taxed',\n",
       " 'Is Accidental Life Insurance Worth It',\n",
       " 'Does Health Insurance Cover A Tummy Tuck',\n",
       " 'Does Health Insurance Typically Cover Otoplasty',\n",
       " 'Is Life Insurance Part Of An Estate After Death',\n",
       " 'When Do You Get Long Term Care Insurance',\n",
       " 'How Do I Know What Health Insurance I Have',\n",
       " 'What Is The Average Salary Of A Life Insurance Agent',\n",
       " 'Who Invented Critical Illness Insurance',\n",
       " 'Does Great Clips Offer Health Insurance',\n",
       " 'Is Krystexxa Covered By Medicare',\n",
       " 'What Is The Right Amount Of Homeowners Insurance',\n",
       " 'How Much Is Car Insurance For A 17 Year Old Female In California',\n",
       " 'Does Medicare Cover Xanax',\n",
       " 'How Much Does Life Insurance Usually Cost',\n",
       " 'Should I Buy Life Insurance When I Am Young',\n",
       " 'How To Choose Medigap Insurance',\n",
       " 'What Kind Of Health Insurance Is Best',\n",
       " 'Does Health Insurance Cover STD Testing',\n",
       " 'What Are Immediate Annuities',\n",
       " 'What Does A Health Insurance Premium Mean',\n",
       " 'What Happens To People With Cancer And No Insurance',\n",
       " 'When Does Mandated Health Insurance Start',\n",
       " 'What Does Renters Insurance Protect',\n",
       " 'Why Annuities Are Poor Investments',\n",
       " 'Does medicare limit the number of echocardiograms one can have in any given amount of time',\n",
       " 'How To Determine Term Life Insurance Amount',\n",
       " 'Does Health Insurance Cover Glaucoma',\n",
       " 'What Does Disability Insurance Protect',\n",
       " 'Should Car Insurance Increase Every Year',\n",
       " 'Which Is Better Medicare Or Medicare Advantage',\n",
       " 'What Will Void A Life Insurance Policy',\n",
       " 'Does Liberty Mutual Have Life Insurance',\n",
       " 'Does Variable Life Insurance Have A Cash Value',\n",
       " 'What Is The Yearly Cost Of Medicare',\n",
       " 'Can I Buy A Life Insurance Policy On My Parents',\n",
       " 'Can Home Insurance Cover Plumbing',\n",
       " 'How To Get Health Insurance For A LLC',\n",
       " 'How To Set Up A Trust For Life Insurance',\n",
       " 'Can You Get Medicare While Working',\n",
       " 'Where Do I Buy Life Insurance',\n",
       " 'What Makes Car Insurance Cheaper',\n",
       " 'How Long Does It Take To Claim A Life Insurance Policy',\n",
       " 'I am a non driver and need a truck for my work I would like to insure my helper to drive for me any problems',\n",
       " 'What Is The Best Medicare Health Plan',\n",
       " 'What Is Group Disability Insurance',\n",
       " 'Can You Claim Lost Car Keys On Insurance',\n",
       " 'Which Car Insurance Company Is Best',\n",
       " 'Who Writes Vacant Home Insurance',\n",
       " 'What Type Of Water Damage Is Covered By Homeowners Insurance',\n",
       " 'When Getting Car Insurance What Information Is Needed',\n",
       " 'Do I Need Builders Risk Insurance To Purchase A Home Where We will Do Major Renovations Before Moving In',\n",
       " 'Does Medicare Cover Ptosis',\n",
       " 'How Much More Does Medicare Advantage Cost',\n",
       " 'Can You Change From Medicare Advantage To Medigap',\n",
       " 'Will My Homeowners Insurance Cover Mold Damage',\n",
       " 'What Insurance Will I Need In Retirement',\n",
       " 'What Is A Cafeteria Plan For Health Insurance',\n",
       " 'What Auto Insurance Is Required By Law',\n",
       " 'Does My Medicare Cover My Wife',\n",
       " 'What Are The Coverage Characteristics Of Home Insurance',\n",
       " 'What Is Survivorship Universal Life Insurance',\n",
       " 'Does Medicare Pay For A Walker',\n",
       " 'How Can I Get Car Insurance As A High Risk Driver',\n",
       " 'Which Annuity Is Right For Me',\n",
       " 'Can You Get Life Insurance While Pregnant',\n",
       " 'Does Medicare Insurance Cover Dental',\n",
       " 'Can I Get Life Insurance If I Have Diabetes',\n",
       " 'What Company Has The Best Long Term Care Insurance',\n",
       " 'What Is Basic Life And Ad D Insurance',\n",
       " 'Does Medicare Cover Compounded Drugs',\n",
       " 'What Is Participation Rate In Annuities',\n",
       " 'What Is A 5 Year Term Life Insurance Policy',\n",
       " 'How Do You Set Up Annuities',\n",
       " 'When Is Permanent Life Insurance A Good Idea',\n",
       " 'How Long Will Disability Insurance Pay',\n",
       " 'What Is Philippine Prudential Life Insurance',\n",
       " 'How Much Is Life Insurance For A 60 Year Old',\n",
       " 'Can You Have Two Medicare Supplements',\n",
       " 'What Is The Benefit Of Renters Insurance',\n",
       " 'Does Life Insurance Cover Alcoholism',\n",
       " 'How Much Is A Good Life Insurance Policy',\n",
       " 'Does QDRO Apply To Life Insurance',\n",
       " 'Can An 80 Year Old Get Long Term Care Insurance',\n",
       " 'Can You Cash Out A Retirement Plan',\n",
       " 'Does Renters Insurance Cover Foreclosure',\n",
       " 'What Is Private Disability Insurance',\n",
       " 'Does Homeowners Insurance Cover Pool Damage',\n",
       " 'Why Would I Need A Medigap Policy',\n",
       " 'Does Homeowners Insurance Cover The Furnace',\n",
       " 'Does Medicare Pay For LPC',\n",
       " 'How To Cancel Scotia Life Insurance',\n",
       " 'How To Know If Someone Had Life Insurance',\n",
       " 'How Does Health Insurance Affect The Retirement Behavior Of Women',\n",
       " 'Is A Chiropractor Covered By Medicare',\n",
       " 'What Company Has The Cheapest Long Term Care Insurance In Colorado',\n",
       " 'How Much Renters Insurance Do I Need For An Apartment',\n",
       " 'How Much Home Insurance Is Needed',\n",
       " 'Who Is The Best Auto Insurance Provider',\n",
       " 'Where To Complain About Home Insurance',\n",
       " 'Is Medigap Or Medicare Advantage Better',\n",
       " 'When To Surrender A Life Insurance Policy',\n",
       " 'What Is Life Insurance Advantages And Disadvantages',\n",
       " 'Much Does Health Insurance Cost One Person',\n",
       " 'Does Renters Insurance Cover A Broken Laptop',\n",
       " 'Is Life Insurance Taxable To The Beneficiary In Illinois',\n",
       " 'Can I Be Denied Health Insurance',\n",
       " 'Why Do Kids Need Life Insurance',\n",
       " 'Does Disability Insurance Have A Cash Value',\n",
       " 'How Much Life Insurance Should You Carry',\n",
       " 'Does Renters Insurance Cover Stolen Bike',\n",
       " 'What Are The Benefits Of Having Renters Insurance',\n",
       " 'Where Can I Get Whole Life Insurance',\n",
       " 'Is My Child Covered By My Auto Insurance',\n",
       " 'What Is Medicare Part B Used For',\n",
       " 'What Is Covered With Renters Insurance',\n",
       " 'How To Borrow From A Retirement Plan',\n",
       " 'Can You Keep Auto Insurance Claim Money',\n",
       " 'Does Home Insurance Cover Central Air',\n",
       " 'Can I Cancel My Health Insurance Without A Qualifying Event',\n",
       " 'Should I Buy Long Term Care Insurance In This Economy',\n",
       " 'What Is Vesting Age In Life Insurance',\n",
       " 'I need to purchase disability insurance for our library can you help',\n",
       " 'How Much Does Single Premium Life Insurance Cost',\n",
       " 'What Does Suze Orman Think Of Variable Annuities',\n",
       " 'Is Renters Insurance Worth The Cost',\n",
       " 'How To Setup A Personal Retirement Plan',\n",
       " 'Can Annuities Be Pledged As Collateral',\n",
       " 'When To Buy Life Insurance For Child',\n",
       " 'Does Renters Insurance Cover Flood In Apartments',\n",
       " 'What Do Life Insurance Policies Cover',\n",
       " 'Why Would BCBSTX Offer A Rider And A Rate Up For Migraines',\n",
       " 'Where Can I Get Cheap Homeowners Insurance',\n",
       " 'How To Get Health Insurance If You Are Overweight',\n",
       " 'Can You Get An Extension On Car Insurance',\n",
       " 'How Do I Know How Much Life Insurance I Need',\n",
       " 'Who Can Buy A Life Insurance Policy',\n",
       " 'How Much Could Disability Insurance Cost',\n",
       " 'Is Medicare Prescription Drug Coverage Mandatory',\n",
       " 'What To Look For When Purchasing Car Insurance',\n",
       " 'Does Homeowners Insurance Cover ATV Accidents',\n",
       " 'What Is The Best Home Insurance Policy',\n",
       " 'Where Can I Find Cheap Auto Insurance In Arkansas',\n",
       " 'How Much Is Globe Life Insurance',\n",
       " 'Who Is The Biggest Life Insurance Company',\n",
       " 'Does Medicare Pay For Echocardiogram',\n",
       " 'Can I Purchase Life Insurance On My Parents',\n",
       " 'Who Pays For Social Security Disability Insurance',\n",
       " 'Where Should I Get Term Life Insurance',\n",
       " 'Why Does My Landlord Want Me To Have Renters Insurance',\n",
       " 'What Factors Affect The Cost Of Home Insurance',\n",
       " 'Who Should Buy Whole Term Life Insurance',\n",
       " 'Who Is Health Insurance A Contract Between',\n",
       " 'Why Do People Buy Disability Insurance',\n",
       " 'How Does It Work If You Have Two Health Insurance Policies',\n",
       " 'Can You Cancel Renters Insurance Any Time',\n",
       " 'Does Medicare Pay For Pneumonia Vaccine',\n",
       " 'How To Sign Up For Medicare Online',\n",
       " 'Can Creditors Claim Life Insurance Benefits',\n",
       " 'When Is It Too Late To Plan For Retirement',\n",
       " 'How To Bill Medicare As Secondary Insurance',\n",
       " 'Who Can Drive Under My Car Insurance',\n",
       " 'Does Short Term Health Insurance Work',\n",
       " 'Can My Health Insurance Company Change My Policy',\n",
       " 'How Much Does An Agent Make On Life Insurance',\n",
       " 'Can My Ex Have Life Insurance On Me',\n",
       " 'How Much Should My Homeowners Insurance Be',\n",
       " 'Does Homeowners Insurance Cover Legal Fees',\n",
       " 'Can A Term Life Insurance Policy Be Cashed Out',\n",
       " 'When Can You Cash Out On Life Insurance',\n",
       " 'What Does A Health Insurance Specialist Do',\n",
       " 'Can I Deduct Life Insurance Premiums On Schedule C',\n",
       " 'Why Is Homeowners Insurance Important',\n",
       " 'What Happens When A Life Insurance Policy Matures',\n",
       " 'How To Find Out How Much Life Insurance Someone Has',\n",
       " 'Why Buy Long Term Care Insurance',\n",
       " 'Can I Be Denied Health Insurance In 2014',\n",
       " 'Does Bank Of America Sell Life Insurance',\n",
       " 'What Does PPO Stand For With Health Insurance',\n",
       " 'What Does Renters Insurance Usually Cover',\n",
       " 'Will Home Insurance Cover Gas Leaks',\n",
       " 'Will Obamacare Raise My Medicare Premium',\n",
       " 'How Many Life Insurance Agents Are There In The Us',\n",
       " 'How Long Does It Take To Get A Home Insurance Binder',\n",
       " 'Who Has The Cheapest Life Insurance Rates',\n",
       " 'What Is Better Term Or Whole Life Insurance',\n",
       " 'What Does A Medicare Wellness Exam Include',\n",
       " 'Does Medicare Pay For Ultrasounds',\n",
       " 'Does A 401K Count As A Retirement Plan',\n",
       " 'Does Home Insurance Cover Ac Unit',\n",
       " 'Where Can I Work Part Time And Get Health Insurance',\n",
       " 'How Much Would Insurance Be For A Sports Car',\n",
       " 'How Hard Is It To Get Disability Insurance',\n",
       " 'Can I test drive a car from a private party without insurance',\n",
       " 'How Fast Can You Get Car Insurance',\n",
       " 'How Much Is Motorcycle Insurance For A 17 Year Old',\n",
       " 'How Does Life Insurance Work If Everyone Dies',\n",
       " 'How Long Does It Take For Renters Insurance To Go Into Effect',\n",
       " 'Can My Car Insurance Sue Me',\n",
       " 'Does Health Insurance Cover An IUD',\n",
       " 'Does Medicare Cover Home Care Assistance',\n",
       " 'Can I Claim Homeowners Insurance On My Taxes',\n",
       " 'What Do I Need For Homeowners Insurance',\n",
       " 'Is Life Insurance Forbidden In Islam',\n",
       " 'What Is The Purpose Of Whole Life Insurance',\n",
       " 'How Do I Get A Life Insurance License In Alabama',\n",
       " 'Does Renters Insurance Cover Animals',\n",
       " 'Does A Single Person With No Dependents Need Life Insurance',\n",
       " 'What Are The Best Term Life Insurance Companies',\n",
       " 'What Is Homeowners Insurance Binder',\n",
       " 'What Does It Mean To Have A Deductible On Health Insurance',\n",
       " 'Does Federal Government Offer Disability Insurance',\n",
       " 'Will Medicare Pay For Abdominoplasty',\n",
       " 'What Auto Insurance Coverage Is Right For Me',\n",
       " 'What Is Viatical Life Insurance',\n",
       " 'Can You Cash In A Universal Life Insurance Policy',\n",
       " 'What Is The Average Cost Of Whole Life Insurance',\n",
       " 'What Information Is Needed For A Home Insurance Quote',\n",
       " 'What Is A Group Universal Life Insurance Policy',\n",
       " 'Who Much Life Insurance Should I Have',\n",
       " 'What To Look For When Buying Life Insurance',\n",
       " 'Does State Farm Renters Insurance Cover Theft',\n",
       " 'Does Renters Insurance Cover Garage Items',\n",
       " 'Do I Need Earthquake Insurance My Home',\n",
       " 'Who Qualifies For Life Insurance',\n",
       " 'What Does Renters Insurance Cover In A Fire',\n",
       " 'What Is Protected Under Renters Insurance',\n",
       " 'How Much Does It Cost For Car Insurance',\n",
       " 'Can Life Insurance Be Contested',\n",
       " 'Is Nursing Home Care Covered By Medicare',\n",
       " 'What Is A Life Insurance Quote',\n",
       " 'When Is Someone Eligible For Medicare Part D',\n",
       " 'Can I Use My Health Insurance In Another State',\n",
       " 'Why Should I Rollover My 401K',\n",
       " 'Do You Need A License To Sell Life Insurance In Maine',\n",
       " 'How Much Is Disability Insurance For Doctors',\n",
       " 'Can Tricare Be Primary Over Medicare',\n",
       " 'What Is An HSA Health Insurance Plan',\n",
       " 'What Is The Age Limit For Health Insurance',\n",
       " 'How To Find A Registered Investment Advisor',\n",
       " 'Who Can Cash Out A Life Insurance Policy',\n",
       " 'Can One Person Have Two Life Insurance Policies',\n",
       " 'What Will Be The Medicare Premium In 2014',\n",
       " 'When To Start Long Term Care Insurance',\n",
       " 'How Do I Qualify For Medicare In Wyoming',\n",
       " 'Who Should Get Disability Insurance',\n",
       " 'Where Is The Cheapest Renters Insurance',\n",
       " 'Can Life Insurance Go To A Trust',\n",
       " 'What Is The Penalty For Not Having Health Insurance Under Obamacare',\n",
       " 'How To Get Quotes For Homeowners Insurance',\n",
       " 'Is Life Insurance Taxed When Paid Out',\n",
       " 'How Much Is Full Coverage Auto Insurance In California',\n",
       " 'Can You Apply For Medicare Part B Online',\n",
       " 'How Much Should I Have In Annuities',\n",
       " 'Can Car Insurance Go On Your Credit Report',\n",
       " 'I am moving across country What are my options to insure my property during transit',\n",
       " 'What Does PCN Stand For On A Health Insurance Card',\n",
       " 'How Much Long Term Care Insurance Is Enough',\n",
       " 'What To Look For When Buying Renters Insurance',\n",
       " 'How Much Is Health Insurance Through A Job',\n",
       " 'How Much Is Individual Health Insurance In New Jersey',\n",
       " 'Does Homeowners Insurance Cover A Lost Wedding Ring',\n",
       " 'Does Life Insurance Require A Blood Test',\n",
       " 'Does The Car Insurance Cover The Driver Or The Car',\n",
       " 'How To Purchase Medicare Insurance',\n",
       " 'How Long Can Children Be On Parents Health Insurance',\n",
       " 'Is Secure Horizons A Medicare Supplement',\n",
       " 'How Much Does Renters Insurance Cost A Month',\n",
       " 'Which Medicare Part B Plan Is Best',\n",
       " 'How Many Employers Offer Disability Insurance',\n",
       " 'What Types Of Jobs Offer The Best Health Insurance Coverage',\n",
       " 'What Is A Good Renters Insurance Policy',\n",
       " 'How Long Should You Have Term Life Insurance',\n",
       " 'What Does Medicare Supplement F Cover',\n",
       " 'Does Life Insurance Money Go Into Estate',\n",
       " 'What Is Servicemen Group Life Insurance Coverage',\n",
       " 'Why Buy Supplemental Disability Insurance',\n",
       " 'Can I Get Health Insurance Without A Physical',\n",
       " 'Does My Renters Insurance Cover My Cell Phone',\n",
       " 'What Does Home Hazard Insurance Cover',\n",
       " 'Can You Claim Rhinoplasty On Medicare',\n",
       " 'Does Whole Life Insurance Ever Really Make Sense',\n",
       " 'Why Is Life Insurance So Cheap',\n",
       " 'Does Virginia Require Renters Insurance',\n",
       " 'How Much Does Medicare Cover For Glasses',\n",
       " 'How Do You Determine How Much Term Life Insurance You Need',\n",
       " 'Can You Cancel Life Insurance',\n",
       " 'Will I Be Taxed If I Don t Have Health Insurance',\n",
       " 'What Is Medicare Fee For Service Contractor',\n",
       " 'Does Renters Insurance Cover Gun Theft',\n",
       " 'What Is The Best Life Insurance Policy For Children',\n",
       " 'Does Allstate Do Life Insurance',\n",
       " 'What Are The Car Insurance Minimums In Pennsylvania',\n",
       " 'Can I Have Private Insurance And Medicare',\n",
       " 'Why You Should Buy Disability Insurance',\n",
       " 'Who Can I Add To My Auto Insurance',\n",
       " 'Can You Cancel A Whole Life Insurance Policy',\n",
       " 'How Much Does Auto Insurance Increase After Speeding Ticket',\n",
       " 'When Is Car Insurance Going Down',\n",
       " 'Is Disability Insurance Recommended',\n",
       " 'Why Is Whole Life Insurance So Expensive',\n",
       " 'Who Should Own Your Life Insurance Policy',\n",
       " 'What Is A Medicare Replacement',\n",
       " 'How Much Is Life Insurance For My Parents',\n",
       " 'Who Sells Term Life Insurance',\n",
       " 'Who Can Purchase Life Insurance',\n",
       " 'My Agent Told Me I Was Covered For Prenatal Care But Now I M Pregnant And Found Out I m Not Covered For Anything Maternity Related What Do I Do',\n",
       " 'Who Sells The Cheapest Auto Insurance',\n",
       " 'What License Do I Need To Sell Disability Insurance',\n",
       " 'Can I Get Health Insurance If Unemployed',\n",
       " 'Can I Add My Elderly Parent To My Health Insurance',\n",
       " 'What Is Wrong With Whole Life Insurance',\n",
       " 'Can You Cash In Your Life Insurance',\n",
       " 'What Is A Life Insurance Certificate',\n",
       " 'What Is Renters Insurance Loss Of Use',\n",
       " 'Does Auto Insurance Cover Hitting Deer',\n",
       " 'Is Medicare Likely To Run Out Of Money',\n",
       " 'What Are Two Types Of Disability Insurance',\n",
       " 'What Is A Non Qualified Retirement Plan',\n",
       " 'What Is The Exclusion Ratio Of Immediate Annuities',\n",
       " 'How Much Is A Premium For Health Insurance',\n",
       " 'Is Cobra Health Insurance Good',\n",
       " 'Is A Credit Check Required To Get Life Insurance',\n",
       " 'Why Do People Get Disability Insurance',\n",
       " 'Can Health Insurance Companies Tell If You Smoke',\n",
       " 'Can you get a Silvers Sneakers membership at the YMCA if you are on Medicare',\n",
       " 'Can Anyone Take Out A Life Insurance Policy On Anyone',\n",
       " 'When Do I Need Commercial Auto Insurance',\n",
       " 'Why Is The Market For Long Term Care Insurance So Small',\n",
       " 'When Did Whole Life Insurance Start',\n",
       " 'How Do I Transfer My Insurance To Another Car',\n",
       " 'What Does ROP Mean In Life Insurance',\n",
       " 'What Qualifies For Long Term Disability Insurance',\n",
       " 'Can You Have More Than One Life Insurance Policies',\n",
       " 'How To Buy Homeowners Insurance For A New Home',\n",
       " 'How Do I Get My Own Health Insurance',\n",
       " 'Can Long Term Care Insurance Premiums Be Deducted',\n",
       " 'Can Debtors Take Life Insurance',\n",
       " 'Where To Get Renters Insurance',\n",
       " 'How Much Is The Medicare Approved Amount For Eyeglasses',\n",
       " 'What Does A Life Insurance Blood Test Look For',\n",
       " 'When Can I Receive Medicare Benefits',\n",
       " 'Can Annuities Be Used For Collateral',\n",
       " 'What Is MOOP In Medicare',\n",
       " 'How To Purchase Short Term Disability Insurance',\n",
       " 'Does Homeowners Insurance Cover Roof Collapse Due To Snow',\n",
       " 'Why Is A Roth IRA Tax Free',\n",
       " 'Who Needs Critical Illness Insurance',\n",
       " 'How Does A Life Insurance Company Know You Died',\n",
       " 'Where To Get The Best Health Insurance',\n",
       " 'How Can Life Insurance Be So Cheap',\n",
       " 'How Much Is A Car Insurance Deductible',\n",
       " 'What Does Home Insurance Cover In A Fire',\n",
       " 'Does Being Unemployed Affect Home Insurance',\n",
       " 'Why Get Medigap',\n",
       " 'What Are M E Charges On Life Insurance',\n",
       " 'How Long Does It Take To Pay Off Whole Life Insurance',\n",
       " 'What Is A Top Hat Retirement Plan',\n",
       " 'Can A 78 Year Old Get Life Insurance',\n",
       " 'Can A Home Insurance Company Drop You',\n",
       " 'Does Health Insurance Cover Dental Implants',\n",
       " 'What Happens If I Can t Get Homeowners Insurance',\n",
       " 'What Is Boli Life Insurance',\n",
       " 'How Long Does A Life Insurance Check Take To Clear',\n",
       " 'Where Should I Buy Health Insurance In New Mexico',\n",
       " 'What Is Renters Insurance Coverage',\n",
       " 'What Does Suze Orman Say About Long Term Care Insurance',\n",
       " 'How Much Is Health Insurance For One Person In Texas',\n",
       " 'Can I Use My Car Insurance To Rent A Car',\n",
       " 'How To Apply For Medicare Part B',\n",
       " 'Can I Get Car Insurance For My Kids',\n",
       " 'When Does Medicare Cover Home Health Care',\n",
       " 'Does Homeowners Insurance Cover HVAC',\n",
       " 'What Is The Penalty For Cashing Out A 401K Early',\n",
       " 'Is Health Insurance Mandatory',\n",
       " 'How Much Does The Average Renters Insurance Cost',\n",
       " 'Can Debt Collectors Go After Life Insurance',\n",
       " 'How Much Does Health Insurance For Individuals Cost',\n",
       " 'Is Health Insurance Subsidized',\n",
       " 'How Does A Whole Life Insurance Loan Work',\n",
       " 'What Is Auto Physical Damage Insurance',\n",
       " 'How Much Coverage Do I Need For Renters Insurance',\n",
       " 'How To Buy Disability Insurance Online',\n",
       " 'Is Rhinoplasty Covered By Health Insurance',\n",
       " 'Is It Legal For Landlord To Require Renters Insurance',\n",
       " 'Does Medicare Cover STD Testing',\n",
       " 'How do I know when my car accident claim is complete',\n",
       " 'What Does Homeowners Medical Insurance Cover',\n",
       " 'Does Health Insurance Affect The Employment Of Older Workers',\n",
       " 'Does Life Insurance Go Through Probate',\n",
       " 'Who Can Contribute To An Irrevocable Life Insurance Trust',\n",
       " 'What Kind Of Insurance Is Needed For A Home Daycare',\n",
       " 'Is A Drug Overdose Covered By Life Insurance',\n",
       " 'Who Is Eligible For Disability Insurance',\n",
       " 'Who Needs Whole Life Insurance',\n",
       " 'Is Part D Medicare Free',\n",
       " 'Can You Have Both Medicare And VA Benefits',\n",
       " 'Do I Need To Change Car Insurance When I Move',\n",
       " 'How To Choose The Right Retirement Plan',\n",
       " 'Does Home Insurance Cover Stolen Cash',\n",
       " 'What Is Face Value Of Life Insurance',\n",
       " 'Who Has The Best Medigap Plan',\n",
       " 'Can A Minor Be A Beneficiary On Life Insurance',\n",
       " 'Does Michigan Require Auto Insurance',\n",
       " 'How Do I Sign Up For Cobra Health Insurance',\n",
       " 'Can 401 K Plans Provide Adequate Retirement Resources',\n",
       " 'Is A Military Pension A Qualified Retirement Plan',\n",
       " 'What Does It Take To Sell Annuities',\n",
       " 'Does Everyone 65 And Older Qualify For Medicare',\n",
       " 'Can You Get Long Term Care Insurance If You Are Over 80',\n",
       " 'How Much Does A New York Life Insurance Agent Make',\n",
       " 'Can A Sole Proprietor Deduct Disability Insurance Premiums',\n",
       " 'Can an employer charge higher rates to older employee',\n",
       " 'Will Homeowners Insurance Cover A Leaking Basement',\n",
       " 'How Do I Notify Medicare Of A Death',\n",
       " 'What Is The Difference Between Medicare Advantage And Medigap Insurance',\n",
       " 'How Much Does Health Insurance For A Newborn Cost',\n",
       " 'Is An Auto Insurance Settlement Taxable',\n",
       " 'Will Renters Insurance Cover Stolen Cash',\n",
       " 'Why Do We Need Health Insurance Companies',\n",
       " 'How Much Car Insurance Should I Carry In Ohio',\n",
       " 'How Long Does Short Term Disability Insurance Last',\n",
       " 'Will Medicare Be There When I Retire',\n",
       " 'Can My Brother Drive My Car Without Insurance',\n",
       " 'Can I Get On Medicare Before The Age Of 65',\n",
       " 'Why Does Health Insurance Exist',\n",
       " 'What Are The Differences Between Medicare A And Medicare B',\n",
       " 'When Is The Best Time To Buy Annuities',\n",
       " 'What Does Life Insurance Blood And Urine Test For',\n",
       " 'What Happens To Life Insurance During Divorce',\n",
       " 'Where To Buy Good Life Insurance',\n",
       " 'How Much Does Basic Renters Insurance Cost',\n",
       " 'Is Northwestern Mutual Whole Life Insurance A Good Investment',\n",
       " 'Can You Get Cash From A Term Life Insurance Policy',\n",
       " 'Where To Get Cheap Renters Insurance',\n",
       " 'How Much Is Health Insurance For A 60 Year Old',\n",
       " 'How Much Of Your Portfolio Should Be In Annuities',\n",
       " 'Where Can I Get Insurance Without A Car',\n",
       " 'Should Renters Insurance Be Required',\n",
       " 'How Can I Save Money On Homeowners Insurance',\n",
       " 'What Is Life And TPD Insurance',\n",
       " 'Can You Buy Life Insurance On Other People',\n",
       " 'What Is The College Major To Study In Order To Be An Insurance Agent',\n",
       " 'Does Medicare Cover DME Supplies',\n",
       " 'Can You Borrow Against Your Retirement Plan In Pennsylvania',\n",
       " 'What The Cost Of Long Term Care Insurance',\n",
       " 'How Much Homeowners Insurance Do I Need In Connecticut',\n",
       " 'Does Medicare Have Estate Recovery',\n",
       " 'What Company Has The Cheapest Renters Insurance In Pennsylvania',\n",
       " 'Why Would Someone Be Denied Life Insurance',\n",
       " 'Does FAFSA Count Annuities',\n",
       " 'How To Buy My Own Health Insurance',\n",
       " 'Can I Deduct Auto Insurance Premiums',\n",
       " 'Who Is A Key Employee In 401K',\n",
       " 'Can You Withdraw From A Roth 401K Without Penalty',\n",
       " 'Why Is Import Car Insurance More Expensive',\n",
       " 'Can You Get Life Insurance If You Are Ill',\n",
       " 'Will Life Insurance Know If I Smoke',\n",
       " 'Who Is Uninsurable For Life Insurance',\n",
       " 'Is Now A Good Time To Buy Annuities',\n",
       " 'What Is The Dwelling Amount On Home Insurance',\n",
       " 'What Renters Insurance Should I Get',\n",
       " 'Is Life Insurance A Legal Requirement For A Mortgage',\n",
       " 'What Does The Letter T Mean In A Medicare Number',\n",
       " 'Is Life Insurance Sales A Good Career',\n",
       " 'Does Where You Live Affect Your Car Insurance Rates',\n",
       " 'Can Both Husband And Wife Have Roth IRA',\n",
       " 'Is Health Insurance Free In Canada',\n",
       " 'Does My Spouse Have To Be On My Auto Insurance',\n",
       " 'Who Should I Set Up A Roth IRA With',\n",
       " 'Does Geico Offer Term Life Insurance',\n",
       " 'What Is Meant By Life Insurance Creates An Immediate Estate',\n",
       " 'What Qualifies As Self Employed Health Insurance',\n",
       " 'How Much Will I Be Fined For Not Having Health Insurance',\n",
       " 'What Is Good Home Insurance',\n",
       " 'What Should Term Life Insurance Cost',\n",
       " 'Can I Enroll In Medicare Part D Anytime',\n",
       " 'Who Should Be The Beneficiary Of My Life Insurance',\n",
       " 'What Is Medicare Region C',\n",
       " 'Does Renters Insurance Cover Theft Of A Bike',\n",
       " 'What Is Select Term Life Insurance',\n",
       " 'Does Everyone Have Health Insurance Now',\n",
       " 'Can I Be On My Boyfriends Health Insurance',\n",
       " 'Does Full Coverage Health Insurance Cover',\n",
       " 'How Do I Get Obamacare',\n",
       " 'Do You Need A License To Sell Life Insurance In Illinois',\n",
       " 'Why Is Long Term Disability Insurance Important',\n",
       " 'Does An Inground Pool Increase Homeowners Insurance',\n",
       " 'How Can We Find Out What Insurance Company Insurances My Neighbor s House',\n",
       " 'Can You 1035 From Life Insurance To Annuity',\n",
       " 'Where Should I Buy Long Term Care Insurance In Michigan',\n",
       " 'Will Medicare Premiums Go Up In 2014',\n",
       " 'Can I Have Auto Insurance In Another state',\n",
       " 'How Much Should You Spend On Life Insurance',\n",
       " 'Does Medicare Part D Cover Cymbalta',\n",
       " 'How Do I Get Short Term Disability Insurance',\n",
       " 'How Much Do Life Insurance Agents Make In Illinois',\n",
       " 'Does Medicare Cover Hepatitis C Screening',\n",
       " 'Who Regulates Variable Annuities',\n",
       " 'Who Offers Purchased Life Annuities',\n",
       " 'Why Do I Need Critical Illness Insurance',\n",
       " 'Does AARP Have Auto Insurance',\n",
       " 'Does Getting Auto Insurance Quotes Affect Your Credit Score',\n",
       " 'Does Medicare Cover In Home Care For The Elderly',\n",
       " 'What Are The Two Basic Types Of Life Insurance Policies',\n",
       " 'Which Type Of Life Insurance Pays A Dividend',\n",
       " 'Does Farm Bureau Offer Renters Insurance',\n",
       " 'Why Would My Auto Insurance Go Up',\n",
       " 'Can An Employer Cancel Health Insurance',\n",
       " 'How Much Will You Be Fined For Not Having Health Insurance',\n",
       " 'Which Is The Best Classic Car Insurance',\n",
       " 'What Are The Benefits Of Medigap',\n",
       " 'How Accurate Are Online Auto Insurance Quotes',\n",
       " 'How Much Life Insurance Should A Husband Have',\n",
       " 'Does Disability Insurance Cover Alcoholism',\n",
       " 'Who Can Sell Annuities In Tennessee',\n",
       " 'What Qualifies As A Qualifying Events For Health Insurance',\n",
       " 'Does Esurance Offer Life Insurance',\n",
       " 'How Much Does Health Insurance For A Family Of 3 Cost',\n",
       " 'When To Buy Long Term Disability Insurance',\n",
       " 'Which Private Health Insurance Covers Cosmetic Surgery',\n",
       " 'Will Homeowners Insurance Cover Roof Damage',\n",
       " 'Where To Buy Individual Disability Insurance',\n",
       " 'Can I Contribute To An IRA If I Participate In A Retirement Plan At Work',\n",
       " 'Can The IRS Seize Life Insurance Benefits',\n",
       " 'Can You Take A Loan From Life Insurance',\n",
       " 'Why Does My Landlord Want Me To Get Renters Insurance',\n",
       " 'Will Medicare Pay For Any Dental Work',\n",
       " 'What Is Guaranteed Replacement Cost In Homeowners Insurance',\n",
       " 'How Soon Does Car Insurance Start',\n",
       " 'How To Choose The Best Auto Insurance',\n",
       " 'Who Sells Long Term Care Insurance',\n",
       " 'Does Medicare Cover HIV Drugs',\n",
       " 'What Is Considered A Lapse In Health Insurance',\n",
       " 'What Information Do I Need To Get Car Insurance',\n",
       " 'What Is Best Medigap Or Medicare Advantage',\n",
       " 'Is It Cheaper To Buy My Own Health Insurance',\n",
       " 'Is Refraction Covered By Medicare',\n",
       " 'How Good Is Global Life Insurance',\n",
       " 'Can I Buy Health Insurance With A Pre Existing Condition',\n",
       " 'How Much Does Renters Insurance Cost In Massachusetts',\n",
       " 'Does Health Insurance Cover The Flu Vaccine',\n",
       " 'Can I Sue My Life Insurance Company',\n",
       " 'Does Homeowners Insurance Cover Water Damage In Bathroom',\n",
       " 'How Good Are Fixed Annuities',\n",
       " 'Can Life Insurance Be Taken By Creditors',\n",
       " 'How To Sign Up For Medicare A',\n",
       " 'What Are The Qualifications For Medicare In Rhode Island',\n",
       " 'How Much Can I Put In A Retirement Plan',\n",
       " 'What Is Wrong With Annuities',\n",
       " 'What Does Renters Insurance Cover In Iowa',\n",
       " 'Can I Drive My Parents Car With Their Insurance',\n",
       " 'How Do You Buy Annuities',\n",
       " 'Can I Qualify For Long Term Care Insurance',\n",
       " 'Does Homeowners Insurance Cover A Burst Pipe',\n",
       " 'How Does A 401K Work If You Quit',\n",
       " 'Can I Get Life Insurance If I Have Lupus',\n",
       " 'Can Annuities Lose Money',\n",
       " 'How Is Life Insurance An Asset',\n",
       " 'Will Homeowners Insurance Cover Water Damage From A Roof Leak',\n",
       " 'When Can I Switch From Medicare Advantage To Medigap',\n",
       " 'What Is The Penalty For Cashing Out A Life Insurance Policy',\n",
       " 'How Much Does High Deductible Health Insurance Cost',\n",
       " 'Can I Deduct Premiums For Long Term Care Insurance',\n",
       " 'Should I Do Long Term Disability Insurance',\n",
       " 'What Affects Homeowners Insurance Rates',\n",
       " 'Does Home Insurance Cover A Leaking Roof',\n",
       " 'How Many Years Of Long Term Care Insurance Do I Need',\n",
       " 'How Does Homeowners Insurance Escrow Work',\n",
       " 'How Are Life Insurance Proceeds Taxed At Death',\n",
       " 'How Does Private Disability Insurance Affect Social Security Disability',\n",
       " 'Who Provides Disability Insurance',\n",
       " 'Does Medicare Part B Cover Lab Work',\n",
       " 'What Are The Best Long Term Care Insurance Companies',\n",
       " 'Is Profit Sharing A Retirement Plan',\n",
       " 'How Much Does Medicare Cost A Year',\n",
       " 'Does Renters Insurance Cover Cell Phone Damage',\n",
       " 'What Are The Qualifications For Medicare In Washington',\n",
       " 'How Much Will Car Insurance Cost For A 19 Year Old',\n",
       " 'Can Long Term Care Insurance Be Fixed',\n",
       " 'What Is A Deductible For Health Insurance',\n",
       " 'What Is Auto Insurance Stacking',\n",
       " 'Does Renters Insurance Cover Subletters',\n",
       " 'Is travel insurance worth the money',\n",
       " 'Is Wet Rot Covered By Home Insurance',\n",
       " 'How Much Is Car Insurance In MA',\n",
       " 'Can Car Insurance Be In Your Parent s Name',\n",
       " 'Will Renters Insurance Cover Flood Damage',\n",
       " 'Can Long Term Care Insurance Premiums Increase',\n",
       " 'When Should Homeowners Insurance Start',\n",
       " 'When Can I Buy A Medigap Policy',\n",
       " 'When Does Health Insurance Cover A Tummy Tuck',\n",
       " 'What Does Aflac Cancer Insurance Pay',\n",
       " 'How To Check Medicare Eligibility For Providers',\n",
       " 'Does UMPD Cover Damage To A Stolen Auto With Liability Only Coverage',\n",
       " 'What Does Genworth Long Term Care Insurance Cover',\n",
       " 'What Is The Definition Of Disability Insurance',\n",
       " 'Does Homeowners Insurance Cover Electrical Surges',\n",
       " 'Does Critical Illness Insurance Cover Arthritis',\n",
       " 'How Do Entrepreneurs Get Health Insurance',\n",
       " 'Which Disability Insurance Is Best',\n",
       " 'Is Medicare Used Effectively To Assist Americans',\n",
       " 'What Is A Child Rider On Term Life Insurance',\n",
       " 'What Is The Number One Life Insurance Company',\n",
       " 'What Does A Retirement Plan Do',\n",
       " 'Does Grange Auto Insurance Cover Rental Cars',\n",
       " 'Can You Buy Life Insurance Online With No Exam',\n",
       " 'What To Do When Home Insurance Drops You',\n",
       " 'Will Medicare Pay For Blood Transfusions',\n",
       " 'Who Is Exempt From Buying Health Insurance',\n",
       " 'How Much Is Medicare Part B Copay',\n",
       " 'What Are The Benefits Of Critical Illness Insurance',\n",
       " 'Can I Open A Car Insurance Company',\n",
       " 'Is Life Insurance Essential',\n",
       " 'Why Is Life Insurance A Unilateral Contract',\n",
       " 'What Are Medicare Lifetime Reserve Days',\n",
       " 'Does Renters Insurance Cover Vehicle Damage',\n",
       " 'What Is The Best Medigap Insurance',\n",
       " 'What Is Adjudication In Health Insurance',\n",
       " 'Is Life Insurance Considered An Asset For Medicaid',\n",
       " 'How Much Disability Insurance Do You Need',\n",
       " 'How Much Is Full Coverage Car Insurance For A New Car',\n",
       " 'What Is The Best Life Insurance In Delaware',\n",
       " 'Can Auto Insurance Companies Drop You',\n",
       " 'What Is Covered Under Medigap',\n",
       " 'Does Liberty Mutual Cover Car Rental Insurance',\n",
       " 'How Long Does It Take To Receive A Check From Life Insurance',\n",
       " 'Does The VA Offer Disability Insurance',\n",
       " 'How Much Is Basic Renters Insurance',\n",
       " 'What Does Aetna Student Health Insurance Cover',\n",
       " 'How Quickly Is Life Insurance Paid Out',\n",
       " 'Who Must Purchase Health Insurance',\n",
       " 'Is Disability Insurance A Good Idea',\n",
       " 'Does Home Insurance Increase With A Pool',\n",
       " 'What Is The Primary Purpose Of An Irrevocable Life Insurance Trust',\n",
       " 'How Much Does A Urinalysis Cost Without Health Insurance',\n",
       " 'Can I Get Insurance On A Car That Does Not Belong To Me',\n",
       " 'Does Wells Fargo Offer Life Insurance',\n",
       " 'Can There Be Too Much Choice In A Retirement Savings Plan',\n",
       " 'Why Do I Need Medigap',\n",
       " 'Does Life Insurance Really Work',\n",
       " 'What Does Whole Life Mean In Insurance',\n",
       " 'How Do Annuity Companies Make Money',\n",
       " 'What s The Cheapest Car Insurance',\n",
       " 'Is Car Insurance Federal Law',\n",
       " 'How Long Does It Take For Life Insurance To Pay',\n",
       " 'Does Homeowners Insurance Cover Loss Of Use',\n",
       " 'What Does Medicare HIC Stand For',\n",
       " 'Why Is Whole Life Insurance A Good Investment',\n",
       " 'Does Homeowners Insurance Cover Power Surges',\n",
       " 'What Is Group Health Insurance',\n",
       " 'Will Annuity Rates Go Up',\n",
       " 'When Can You Enroll In Health Insurance',\n",
       " 'Renters Insurance Is It Required',\n",
       " 'What Is Deferred Annuities',\n",
       " 'How Are Qualified Annuities Taxed',\n",
       " 'Who Can Be Covered By Life Insurance',\n",
       " 'Can I Keep Insurance Money And Not Fix My Car',\n",
       " 'What Will Insurance Pay If My Car Is Stolen',\n",
       " 'Why Do We Need Critical Illness Insurance',\n",
       " 'When Did Mandatory Auto Insurance Start',\n",
       " 'Does State Farm Have Term Life Insurance',\n",
       " 'How Much Is A Typical Homeowners Insurance',\n",
       " 'Does US Health Insurance Work Overseas',\n",
       " 'What Is The Best Rated Homeowners Insurance',\n",
       " 'What Is Juvenile Whole Life Insurance',\n",
       " 'What To Look For In Homeowners Insurance',\n",
       " 'Can I Get Sr22 Insurance Without Owning A Car',\n",
       " 'Is Life Insurance Community Property',\n",
       " 'Who Owns Southwestern Life',\n",
       " 'How Much Are Car Insurance Payments',\n",
       " 'What Do I Need To Know To Get Homeowners Insurance',\n",
       " 'Does Auto Insurance Cover A Cracked Windshield',\n",
       " 'Who Regulates Life Insurance In North Dakota',\n",
       " 'Can You Stay On Parents Health Insurance If Married',\n",
       " 'Does A Company Have To Offer A Retirement Plan',\n",
       " 'Does Renters Insurance Cover Damage To The Property',\n",
       " 'Do I Need Life Insurance When I Am Retired',\n",
       " 'How Does Group Variable Life Insurance Work',\n",
       " 'Why Choose Medigap Or Medicare Advantage',\n",
       " 'How Much Is Health Insurance For Two People',\n",
       " 'How To Sell Life Insurance Online',\n",
       " 'Can I Get A Life Insurance Quote Online',\n",
       " 'Long Does Take Get Life Insurance After Someone Dies',\n",
       " 'Can You Borrow From Your Whole Life Insurance Policy',\n",
       " 'What Is The Difference Between Life Insurance And Health Insurance',\n",
       " 'How To Sign Up For Medicare Part B Online',\n",
       " 'How Is AD D Different From Life Insurance',\n",
       " 'Does Health Insurance Cover ED Drugs',\n",
       " 'Who Receives A Medicare Summary Notice',\n",
       " 'When Is Medicare Primary Payer',\n",
       " 'How Much Does Medicare Pay Doctors',\n",
       " 'When Is One Eligible For Medicare At What Age',\n",
       " 'Does Universal Life Insurance Policy Expire',\n",
       " ...]"
      ]
     },
     "execution_count": 110,
     "metadata": {},
     "output_type": "execute_result"
    }
   ],
   "source": [
    "dialogue_clean"
   ]
  },
  {
   "cell_type": "code",
   "execution_count": 109,
   "metadata": {},
   "outputs": [
    {
     "data": {
      "text/plain": [
       "[(' ', 7),\n",
       " ('Can', 1),\n",
       " ('I', 1),\n",
       " ('Get', 1),\n",
       " ('Life', 1),\n",
       " ('Insurance', 1),\n",
       " ('After', 1),\n",
       " ('Breast', 1),\n",
       " ('Cancer', 1)]"
      ]
     },
     "execution_count": 109,
     "metadata": {},
     "output_type": "execute_result"
    }
   ],
   "source": [
    "with_jieba_cut = Counter(jieba.cut(dialogue_clean[110]))\n",
    "with_jieba_cut.most_common()[:10]"
   ]
  },
  {
   "cell_type": "code",
   "execution_count": 102,
   "metadata": {},
   "outputs": [
    {
     "data": {
      "text/plain": [
       "12889"
      ]
     },
     "execution_count": 102,
     "metadata": {},
     "output_type": "execute_result"
    }
   ],
   "source": [
    "len(dialogue_clean)"
   ]
  },
  {
   "cell_type": "code",
   "execution_count": 103,
   "metadata": {},
   "outputs": [],
   "source": [
    "with open('dialogue.txt', 'w') as f:\n",
    "    for a in dialogue_clean:\n",
    "        f.write(a + '\\n')"
   ]
  },
  {
   "cell_type": "code",
   "execution_count": 113,
   "metadata": {},
   "outputs": [
    {
     "name": "stdout",
     "output_type": "stream",
     "text": [
      "0\n",
      "100\n",
      "200\n",
      "300\n",
      "400\n",
      "500\n",
      "600\n",
      "700\n",
      "800\n",
      "900\n",
      "1000\n",
      "1100\n",
      "1200\n",
      "1300\n",
      "1400\n",
      "1500\n",
      "1600\n",
      "1700\n",
      "1800\n",
      "1900\n",
      "2000\n",
      "2100\n",
      "2200\n",
      "2300\n",
      "2400\n",
      "2500\n",
      "2600\n",
      "2700\n",
      "2800\n",
      "2900\n",
      "3000\n",
      "3100\n",
      "3200\n",
      "3300\n",
      "3400\n",
      "3500\n",
      "3600\n",
      "3700\n",
      "3800\n",
      "3900\n",
      "4000\n",
      "4100\n",
      "4200\n",
      "4300\n",
      "4400\n",
      "4500\n",
      "4600\n",
      "4700\n",
      "4800\n",
      "4900\n",
      "5000\n",
      "5100\n",
      "5200\n",
      "5300\n",
      "5400\n",
      "5500\n",
      "5600\n",
      "5700\n",
      "5800\n",
      "5900\n",
      "6000\n",
      "6100\n",
      "6200\n",
      "6300\n",
      "6400\n",
      "6500\n",
      "6600\n",
      "6700\n",
      "6800\n",
      "6900\n",
      "7000\n",
      "7100\n",
      "7200\n",
      "7300\n",
      "7400\n",
      "7500\n",
      "7600\n",
      "7700\n",
      "7800\n",
      "7900\n",
      "8000\n",
      "8100\n",
      "8200\n",
      "8300\n",
      "8400\n",
      "8500\n",
      "8600\n",
      "8700\n",
      "8800\n",
      "8900\n",
      "9000\n",
      "9100\n",
      "9200\n",
      "9300\n",
      "9400\n",
      "9500\n",
      "9600\n",
      "9700\n",
      "9800\n",
      "9900\n",
      "10000\n",
      "10100\n",
      "10200\n",
      "10300\n",
      "10400\n",
      "10500\n",
      "10600\n",
      "10700\n",
      "10800\n",
      "10900\n",
      "11000\n",
      "11100\n",
      "11200\n",
      "11300\n",
      "11400\n",
      "11500\n",
      "11600\n",
      "11700\n",
      "11800\n",
      "11900\n",
      "12000\n",
      "12100\n",
      "12200\n",
      "12300\n",
      "12400\n",
      "12500\n",
      "12600\n",
      "12700\n",
      "12800\n"
     ]
    }
   ],
   "source": [
    "#def cut(string): return list(jieba.cut(string))\n",
    "#英文天生就是分好词的，不需要调用cut\n",
    "TOKEN = []\n",
    "for i, line in enumerate((open('dialogue.txt'))):\n",
    "    if i % 100 == 0: print(i)\n",
    "    data = line.split()\n",
    "    TOKEN += data"
   ]
  },
  {
   "cell_type": "code",
   "execution_count": 115,
   "metadata": {},
   "outputs": [
    {
     "data": {
      "text/plain": [
       "[<matplotlib.lines.Line2D at 0x17fe0db3b38>]"
      ]
     },
     "execution_count": 115,
     "metadata": {},
     "output_type": "execute_result"
    },
    {
     "data": {
      "image/png": "[encoded data removed]",
      "text/plain": [
       "<Figure size 432x288 with 1 Axes>"
      ]
     },
     "metadata": {
      "needs_background": "light"
     },
     "output_type": "display_data"
    }
   ],
   "source": [
    "from functools import reduce\n",
    "from operator import add, mul\n",
    "import matplotlib.pyplot as plt\n",
    "words_count = Counter(TOKEN)\n",
    "words_count.most_common(100)\n",
    "frequiences = [f for w, f in words_count.most_common(100)]\n",
    "x = [i for i in range(100)]\n",
    "%matplotlib inline\n",
    "plt.plot(x, frequiences)"
   ]
  },
  {
   "cell_type": "code",
   "execution_count": 116,
   "metadata": {},
   "outputs": [
    {
     "data": {
      "text/plain": [
       "[<matplotlib.lines.Line2D at 0x17fdf66c940>]"
      ]
     },
     "execution_count": 116,
     "metadata": {},
     "output_type": "execute_result"
    },
    {
     "data": {
      "image/png": "[encoded data removed]",
      "text/plain": [
       "<Figure size 432x288 with 1 Axes>"
      ]
     },
     "metadata": {
      "needs_background": "light"
     },
     "output_type": "display_data"
    }
   ],
   "source": [
    "import numpy as np\n",
    "plt.plot(x, np.log(frequiences))"
   ]
  },
  {
   "cell_type": "code",
   "execution_count": 129,
   "metadata": {},
   "outputs": [],
   "source": [
    "def prob_1(word):\n",
    "    return words_count[word] / len(TOKEN)\n",
    "TOKEN = [str(t) for t in TOKEN]\n",
    "TOKEN_2_GRAM = [' '.join(TOKEN[i:i+2]) for i in range(len(TOKEN[:-2]))]\n",
    "words_count_2 = Counter(TOKEN_2_GRAM)\n",
    "\n",
    "\n",
    "def prob_2(word1, word2):\n",
    "    if word1 + word2 in words_count_2: return words_count_2[word1+word2] / len(TOKEN_2_GRAM)\n",
    "    else:\n",
    "        return 1 / len(TOKEN_2_GRAM)\n",
    "\n",
    "def get_probablity(sentence):\n",
    "    #words = cut(sentence)\n",
    "    words = sentence.split()    \n",
    "    sentence_pro = 1\n",
    "\n",
    "    for i, word in enumerate(words[:-1]):\n",
    "        next_ = words[i+1]\n",
    "        probability = prob_2(word, next_)\n",
    "        sentence_pro *= probability\n",
    "    \n",
    "    #最后一个单词在数据集中出现的概率为0\n",
    "    #sentence_pro*=prob_1(words[-1])\n",
    "    return sentence_pro"
   ]
  },
  {
   "cell_type": "code",
   "execution_count": 140,
   "metadata": {},
   "outputs": [
    {
     "name": "stdout",
     "output_type": "stream",
     "text": [
      "sentence: how are you, How does their head feeling with Prb: 1.4355653909676084e-35\n",
      "sentence: good afternoon, How does their body feeling with Prb: 1.363299029186299e-30\n",
      "sentence: good afternoon, How does their body feeling with Prb: 1.363299029186299e-30\n",
      "sentence: good afternoon, How does your stomach feeling with Prb: 1.363299029186299e-30\n",
      "sentence: good evening, How does your stomach feeling with Prb: 1.363299029186299e-30\n",
      "sentence: good evening, How does your head feeling with Prb: 1.363299029186299e-30\n",
      "sentence: good evening, How does your head feeling with Prb: 1.363299029186299e-30\n",
      "sentence: good afternoon, How does your body feeling with Prb: 1.363299029186299e-30\n",
      "sentence: how are you, How does their body feeling with Prb: 1.4355653909676084e-35\n",
      "sentence: how are you, How does their body feeling with Prb: 1.4355653909676084e-35\n"
     ]
    }
   ],
   "source": [
    "sentence_list=[]\n",
    "for sen in [generate(gram=grammar, target='doctor') for i in range(10)]:\n",
    "    print('sentence: {} with Prb: {}'.format(sen, get_probablity(sen)))\n",
    "    sentence_list.append((get_probablity(sen),sen))"
   ]
  },
  {
   "cell_type": "code",
   "execution_count": 141,
   "metadata": {},
   "outputs": [
    {
     "data": {
      "text/plain": [
       "[(1.4355653909676084e-35, 'how are you, How does their head feeling'),\n",
       " (1.363299029186299e-30, 'good afternoon, How does their body feeling'),\n",
       " (1.363299029186299e-30, 'good afternoon, How does their body feeling'),\n",
       " (1.363299029186299e-30, 'good afternoon, How does your stomach feeling'),\n",
       " (1.363299029186299e-30, 'good evening, How does your stomach feeling'),\n",
       " (1.363299029186299e-30, 'good evening, How does your head feeling'),\n",
       " (1.363299029186299e-30, 'good evening, How does your head feeling'),\n",
       " (1.363299029186299e-30, 'good afternoon, How does your body feeling'),\n",
       " (1.4355653909676084e-35, 'how are you, How does their body feeling'),\n",
       " (1.4355653909676084e-35, 'how are you, How does their body feeling')]"
      ]
     },
     "execution_count": 141,
     "metadata": {},
     "output_type": "execute_result"
    }
   ],
   "source": [
    "sentence_list"
   ]
  },
  {
   "cell_type": "markdown",
   "metadata": {},
   "source": [
    "#### 3. 获得最优质的的语言"
   ]
  },
  {
   "cell_type": "markdown",
   "metadata": {},
   "source": [
    "当我们能够生成随机的语言并且能判断之后，我们就可以生成更加合理的语言了。请定义 generate_best 函数，该函数输入一个语法 + 语言模型，能够生成**n**个句子，并能选择一个最合理的句子: \n",
    "\n"
   ]
  },
  {
   "cell_type": "markdown",
   "metadata": {},
   "source": [
    "提示，要实现这个函数，你需要Python的sorted函数"
   ]
  },
  {
   "cell_type": "code",
   "execution_count": 135,
   "metadata": {},
   "outputs": [
    {
     "data": {
      "text/plain": [
       "[1, 2, 3, 5]"
      ]
     },
     "execution_count": 135,
     "metadata": {},
     "output_type": "execute_result"
    }
   ],
   "source": [
    "sorted([1, 3, 5, 2])"
   ]
  },
  {
   "cell_type": "markdown",
   "metadata": {},
   "source": [
    "这个函数接受一个参数key，这个参数接受一个函数作为输入，例如"
   ]
  },
  {
   "cell_type": "code",
   "execution_count": 136,
   "metadata": {},
   "outputs": [
    {
     "data": {
      "text/plain": [
       "[(1, 4), (2, 5), (4, 4), (5, 0)]"
      ]
     },
     "execution_count": 136,
     "metadata": {},
     "output_type": "execute_result"
    }
   ],
   "source": [
    "sorted([(2, 5), (1, 4), (5, 0), (4, 4)], key=lambda x: x[0])"
   ]
  },
  {
   "cell_type": "markdown",
   "metadata": {},
   "source": [
    "能够让list按照第0个元素进行排序."
   ]
  },
  {
   "cell_type": "code",
   "execution_count": 137,
   "metadata": {},
   "outputs": [
    {
     "data": {
      "text/plain": [
       "[(5, 0), (1, 4), (4, 4), (2, 5)]"
      ]
     },
     "execution_count": 137,
     "metadata": {},
     "output_type": "execute_result"
    }
   ],
   "source": [
    "sorted([(2, 5), (1, 4), (5, 0), (4, 4)], key=lambda x: x[1])"
   ]
  },
  {
   "cell_type": "markdown",
   "metadata": {},
   "source": [
    "能够让list按照第1个元素进行排序."
   ]
  },
  {
   "cell_type": "code",
   "execution_count": 138,
   "metadata": {},
   "outputs": [
    {
     "data": {
      "text/plain": [
       "[(2, 5), (1, 4), (4, 4), (5, 0)]"
      ]
     },
     "execution_count": 138,
     "metadata": {},
     "output_type": "execute_result"
    }
   ],
   "source": [
    "sorted([(2, 5), (1, 4), (5, 0), (4, 4)], key=lambda x: x[1], reverse=True)"
   ]
  },
  {
   "cell_type": "markdown",
   "metadata": {},
   "source": [
    "能够让list按照第1个元素进行排序, 但是是递减的顺序。"
   ]
  },
  {
   "cell_type": "markdown",
   "metadata": {},
   "source": [
    ">"
   ]
  },
  {
   "cell_type": "code",
   "execution_count": 161,
   "metadata": {},
   "outputs": [],
   "source": [
    "def generate_best(gram, target): # you code here\n",
    "    sentence_list=[]\n",
    "    for sen in [generate(gram=grammar, target='doctor') for i in range(10)]:\n",
    "        sentence_list.append((sen,get_probablity(sen)))\n",
    "    sort = sorted(sentence_list, key=lambda x: x[1], reverse=True)\n",
    "    return sort \n",
    " "
   ]
  },
  {
   "cell_type": "code",
   "execution_count": 162,
   "metadata": {},
   "outputs": [
    {
     "data": {
      "text/plain": [
       "[('good afternoon, How does their stomach feeling', 1.363299029186299e-30),\n",
       " ('good morning, How does your body feeling', 1.363299029186299e-30),\n",
       " ('good evening, How does your body feeling', 1.363299029186299e-30),\n",
       " ('good morning, How does your stomach feeling', 1.363299029186299e-30),\n",
       " ('good morning, How does your stomach feeling', 1.363299029186299e-30),\n",
       " ('good evening, How does their body feeling', 1.363299029186299e-30),\n",
       " ('good afternoon, How does their body feeling', 1.363299029186299e-30),\n",
       " ('how are you, How does your head feeling', 1.4355653909676084e-35),\n",
       " ('how are you, How does their head feeling', 1.4355653909676084e-35),\n",
       " ('how are you, How does your head feeling', 1.4355653909676084e-35)]"
      ]
     },
     "execution_count": 162,
     "metadata": {},
     "output_type": "execute_result"
    }
   ],
   "source": [
    "a = generate_best(gram=grammar, target='doctor')\n",
    "a"
   ]
  },
  {
   "cell_type": "markdown",
   "metadata": {},
   "source": [
    "好了，现在我们实现了自己的第一个AI模型，这个模型能够生成比较接近于人类的语言。"
   ]
  },
  {
   "cell_type": "markdown",
   "metadata": {},
   "source": [
    "> **评阅点**： 是否使用 lambda 语法进行排序"
   ]
  },
  {
   "cell_type": "markdown",
   "metadata": {},
   "source": [
    "Q: 这个模型有什么问题？ 你准备如何提升？ "
   ]
  },
  {
   "cell_type": "markdown",
   "metadata": {},
   "source": [
    "Ans: 不能很好的利用远距离的上下文关系，而且比较依赖语料库中的语句词与词之间一起出现的概率，未登录词并不能表示出来\n",
    "   对于长距离的上下文可以使用更大的n-gram, 对于未登录词的表示利用词向量， CBOW，上下文的词作为该词的词向量表示。"
   ]
  },
  {
   "cell_type": "markdown",
   "metadata": {},
   "source": [
    ">**评阅点**: 是否提出了比较实际的问题，例如OOV问题，例如数据量，例如变成 3-gram问题。"
   ]
  },
  {
   "cell_type": "markdown",
   "metadata": {},
   "source": [
    "##### 以下内容为可选部分，对于绝大多数同学，能完成以上的项目已经很优秀了，下边的内容如果你还有精力可以试试，但不是必须的。"
   ]
  },
  {
   "cell_type": "markdown",
   "metadata": {},
   "source": [
    "#### 4. (Optional) 完成基于Pattern Match的语句问答\n",
    "> 我们的GitHub仓库中，有一个assignment-01-optional-pattern-match，这个难度较大，感兴趣的同学可以挑战一下。"
   ]
  },
  {
   "cell_type": "markdown",
   "metadata": {},
   "source": [
    "\n",
    "#### 5. (Optional) 完成阿兰图灵机器智能原始论文的阅读\n",
    "1. 请阅读阿兰图灵关于机器智能的原始论文：https://github.com/Computing-Intelligence/References/blob/master/AI%20%26%20Machine%20Learning/Computer%20Machinery%20and%20Intelligence.pdf \n",
    "2. 并按照GitHub仓库中的论文阅读模板，填写完毕后发送给我: mqgao@kaikeba.com 谢谢"
   ]
  },
  {
   "cell_type": "markdown",
   "metadata": {},
   "source": [
    "> "
   ]
  },
  {
   "cell_type": "markdown",
   "metadata": {},
   "source": [
    "各位同学，我们已经完成了自己的第一个AI模型，大家对人工智能可能已经有了一些感觉，人工智能的核心就是，我们如何设计一个模型、程序，在外部的输入变化的时候，我们的程序不变，依然能够解决问题。人工智能是一个很大的领域，目前大家所熟知的深度学习只是其中一小部分，之后也肯定会有更多的方法提出来，但是大家知道人工智能的目标，就知道了之后进步的方向。"
   ]
  },
  {
   "cell_type": "markdown",
   "metadata": {},
   "source": [
    "然后，希望大家对AI不要有恐惧感，这个并不难，大家加油！"
   ]
  },
  {
   "cell_type": "markdown",
   "metadata": {},
   "source": [
    ">"
   ]
  },
  {
   "cell_type": "markdown",
   "metadata": {},
   "source": [
    "![](https://timgsa.baidu.com/timg?image&quality=80&size=b9999_10000&sec=1561828422005&di=48d19c16afb6acc9180183a6116088ac&imgtype=0&src=http%3A%2F%2Fb-ssl.duitang.com%2Fuploads%2Fitem%2F201807%2F28%2F20180728150843_BECNF.thumb.224_0.jpeg)"
   ]
  }
 ],
 "metadata": {
  "kernelspec": {
   "display_name": "Python 3",
   "language": "python",
   "name": "python3"
  },
  "language_info": {
   "codemirror_mode": {
    "name": "ipython",
    "version": 3
   },
   "file_extension": ".py",
   "mimetype": "text/x-python",
   "name": "python",
   "nbconvert_exporter": "python",
   "pygments_lexer": "ipython3",
   "version": "3.7.1"
  }
 },
 "nbformat": 4,
 "nbformat_minor": 2
}
